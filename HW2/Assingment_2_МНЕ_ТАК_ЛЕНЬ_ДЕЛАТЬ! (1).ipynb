{
  "cells": [
    {
      "cell_type": "markdown",
      "metadata": {
        "collapsed": true,
        "pycharm": {
          "name": "#%% md\n"
        },
        "id": "SA6O5PxLTRXQ"
      },
      "source": [
        "# Assignment 2\n",
        "\n",
        "## Instructions\n",
        "- Your submission should be the `.ipynb` file with your name,\n",
        "  like `YusufMesbah.ipynb`. it should include the answers to the questions in\n",
        "  markdown cells.\n",
        "- You are expected to follow the best practices for code writing and model\n",
        "training. Poor coding style will be penalized.\n",
        "- You are allowed to discuss ideas with your peers, but no sharing of code.\n",
        "Plagiarism in the code will result in failing. If you use code from the\n",
        "internet, cite it.\n",
        "- If the instructions seem vague, use common sense."
      ]
    },
    {
      "cell_type": "markdown",
      "source": [
        "# Task 1: ANN (30%)\n",
        "For this task, you are required to build a fully connect feed-forward ANN model\n",
        "for a multi-label regression problem.\n",
        "\n",
        "For the given data, you need do proper data preprocessing, design the ANN model,\n",
        "then fine-tune your model architecture (number of layers, number of neurons,\n",
        "activation function, learning rate, momentum, regularization).\n",
        "\n",
        "For evaluating your model, do $80/20$ train test split.\n",
        "\n",
        "### Data\n",
        "You will be working with the data in `Task 1.csv` for predicting students'\n",
        "scores in 3 different exams: math, reading and writing. The columns include:\n",
        " - gender\n",
        " - race\n",
        " - parental level of education\n",
        " - lunch meal plan at school\n",
        " - whether the student undertook the test preparation course"
      ],
      "metadata": {
        "collapsed": false,
        "id": "xgaeQQ7RTRXU"
      }
    },
    {
      "cell_type": "markdown",
      "source": [
        "## Part 1 - Preprocessing and encoding"
      ],
      "metadata": {
        "id": "txOb7k8qdciD"
      }
    },
    {
      "cell_type": "code",
      "source": [
        "import pandas as pd\n",
        "from sklearn.model_selection import train_test_split\n",
        "\n",
        "df = pd.read_csv('Task 1.csv')\n",
        "df.head(5)"
      ],
      "metadata": {
        "colab": {
          "base_uri": "https://localhost:8080/",
          "height": 268
        },
        "id": "Y5NXfG4edbs0",
        "outputId": "bdd72005-6791-4cfd-a103-9985a4f53797"
      },
      "execution_count": null,
      "outputs": [
        {
          "output_type": "execute_result",
          "data": {
            "text/plain": [
              "   gender race/ethnicity parental level of education         lunch  \\\n",
              "0    male        group A                 high school      standard   \n",
              "1  female        group D            some high school  free/reduced   \n",
              "2    male        group E                some college  free/reduced   \n",
              "3    male        group B                 high school      standard   \n",
              "4    male        group E          associate's degree      standard   \n",
              "\n",
              "  test preparation course  math score  reading score  writing score  \n",
              "0               completed          67             67             63  \n",
              "1                    none          40             59             55  \n",
              "2                    none          59             60             50  \n",
              "3                    none          77             78             68  \n",
              "4               completed          78             73             68  "
            ],
            "text/html": [
              "\n",
              "  <div id=\"df-2158c946-7fac-4593-bf1d-db63c6ab6bcf\">\n",
              "    <div class=\"colab-df-container\">\n",
              "      <div>\n",
              "<style scoped>\n",
              "    .dataframe tbody tr th:only-of-type {\n",
              "        vertical-align: middle;\n",
              "    }\n",
              "\n",
              "    .dataframe tbody tr th {\n",
              "        vertical-align: top;\n",
              "    }\n",
              "\n",
              "    .dataframe thead th {\n",
              "        text-align: right;\n",
              "    }\n",
              "</style>\n",
              "<table border=\"1\" class=\"dataframe\">\n",
              "  <thead>\n",
              "    <tr style=\"text-align: right;\">\n",
              "      <th></th>\n",
              "      <th>gender</th>\n",
              "      <th>race/ethnicity</th>\n",
              "      <th>parental level of education</th>\n",
              "      <th>lunch</th>\n",
              "      <th>test preparation course</th>\n",
              "      <th>math score</th>\n",
              "      <th>reading score</th>\n",
              "      <th>writing score</th>\n",
              "    </tr>\n",
              "  </thead>\n",
              "  <tbody>\n",
              "    <tr>\n",
              "      <th>0</th>\n",
              "      <td>male</td>\n",
              "      <td>group A</td>\n",
              "      <td>high school</td>\n",
              "      <td>standard</td>\n",
              "      <td>completed</td>\n",
              "      <td>67</td>\n",
              "      <td>67</td>\n",
              "      <td>63</td>\n",
              "    </tr>\n",
              "    <tr>\n",
              "      <th>1</th>\n",
              "      <td>female</td>\n",
              "      <td>group D</td>\n",
              "      <td>some high school</td>\n",
              "      <td>free/reduced</td>\n",
              "      <td>none</td>\n",
              "      <td>40</td>\n",
              "      <td>59</td>\n",
              "      <td>55</td>\n",
              "    </tr>\n",
              "    <tr>\n",
              "      <th>2</th>\n",
              "      <td>male</td>\n",
              "      <td>group E</td>\n",
              "      <td>some college</td>\n",
              "      <td>free/reduced</td>\n",
              "      <td>none</td>\n",
              "      <td>59</td>\n",
              "      <td>60</td>\n",
              "      <td>50</td>\n",
              "    </tr>\n",
              "    <tr>\n",
              "      <th>3</th>\n",
              "      <td>male</td>\n",
              "      <td>group B</td>\n",
              "      <td>high school</td>\n",
              "      <td>standard</td>\n",
              "      <td>none</td>\n",
              "      <td>77</td>\n",
              "      <td>78</td>\n",
              "      <td>68</td>\n",
              "    </tr>\n",
              "    <tr>\n",
              "      <th>4</th>\n",
              "      <td>male</td>\n",
              "      <td>group E</td>\n",
              "      <td>associate's degree</td>\n",
              "      <td>standard</td>\n",
              "      <td>completed</td>\n",
              "      <td>78</td>\n",
              "      <td>73</td>\n",
              "      <td>68</td>\n",
              "    </tr>\n",
              "  </tbody>\n",
              "</table>\n",
              "</div>\n",
              "      <button class=\"colab-df-convert\" onclick=\"convertToInteractive('df-2158c946-7fac-4593-bf1d-db63c6ab6bcf')\"\n",
              "              title=\"Convert this dataframe to an interactive table.\"\n",
              "              style=\"display:none;\">\n",
              "        \n",
              "  <svg xmlns=\"http://www.w3.org/2000/svg\" height=\"24px\"viewBox=\"0 0 24 24\"\n",
              "       width=\"24px\">\n",
              "    <path d=\"M0 0h24v24H0V0z\" fill=\"none\"/>\n",
              "    <path d=\"M18.56 5.44l.94 2.06.94-2.06 2.06-.94-2.06-.94-.94-2.06-.94 2.06-2.06.94zm-11 1L8.5 8.5l.94-2.06 2.06-.94-2.06-.94L8.5 2.5l-.94 2.06-2.06.94zm10 10l.94 2.06.94-2.06 2.06-.94-2.06-.94-.94-2.06-.94 2.06-2.06.94z\"/><path d=\"M17.41 7.96l-1.37-1.37c-.4-.4-.92-.59-1.43-.59-.52 0-1.04.2-1.43.59L10.3 9.45l-7.72 7.72c-.78.78-.78 2.05 0 2.83L4 21.41c.39.39.9.59 1.41.59.51 0 1.02-.2 1.41-.59l7.78-7.78 2.81-2.81c.8-.78.8-2.07 0-2.86zM5.41 20L4 18.59l7.72-7.72 1.47 1.35L5.41 20z\"/>\n",
              "  </svg>\n",
              "      </button>\n",
              "      \n",
              "  <style>\n",
              "    .colab-df-container {\n",
              "      display:flex;\n",
              "      flex-wrap:wrap;\n",
              "      gap: 12px;\n",
              "    }\n",
              "\n",
              "    .colab-df-convert {\n",
              "      background-color: #E8F0FE;\n",
              "      border: none;\n",
              "      border-radius: 50%;\n",
              "      cursor: pointer;\n",
              "      display: none;\n",
              "      fill: #1967D2;\n",
              "      height: 32px;\n",
              "      padding: 0 0 0 0;\n",
              "      width: 32px;\n",
              "    }\n",
              "\n",
              "    .colab-df-convert:hover {\n",
              "      background-color: #E2EBFA;\n",
              "      box-shadow: 0px 1px 2px rgba(60, 64, 67, 0.3), 0px 1px 3px 1px rgba(60, 64, 67, 0.15);\n",
              "      fill: #174EA6;\n",
              "    }\n",
              "\n",
              "    [theme=dark] .colab-df-convert {\n",
              "      background-color: #3B4455;\n",
              "      fill: #D2E3FC;\n",
              "    }\n",
              "\n",
              "    [theme=dark] .colab-df-convert:hover {\n",
              "      background-color: #434B5C;\n",
              "      box-shadow: 0px 1px 3px 1px rgba(0, 0, 0, 0.15);\n",
              "      filter: drop-shadow(0px 1px 2px rgba(0, 0, 0, 0.3));\n",
              "      fill: #FFFFFF;\n",
              "    }\n",
              "  </style>\n",
              "\n",
              "      <script>\n",
              "        const buttonEl =\n",
              "          document.querySelector('#df-2158c946-7fac-4593-bf1d-db63c6ab6bcf button.colab-df-convert');\n",
              "        buttonEl.style.display =\n",
              "          google.colab.kernel.accessAllowed ? 'block' : 'none';\n",
              "\n",
              "        async function convertToInteractive(key) {\n",
              "          const element = document.querySelector('#df-2158c946-7fac-4593-bf1d-db63c6ab6bcf');\n",
              "          const dataTable =\n",
              "            await google.colab.kernel.invokeFunction('convertToInteractive',\n",
              "                                                     [key], {});\n",
              "          if (!dataTable) return;\n",
              "\n",
              "          const docLinkHtml = 'Like what you see? Visit the ' +\n",
              "            '<a target=\"_blank\" href=https://colab.research.google.com/notebooks/data_table.ipynb>data table notebook</a>'\n",
              "            + ' to learn more about interactive tables.';\n",
              "          element.innerHTML = '';\n",
              "          dataTable['output_type'] = 'display_data';\n",
              "          await google.colab.output.renderOutput(dataTable, element);\n",
              "          const docLink = document.createElement('div');\n",
              "          docLink.innerHTML = docLinkHtml;\n",
              "          element.appendChild(docLink);\n",
              "        }\n",
              "      </script>\n",
              "    </div>\n",
              "  </div>\n",
              "  "
            ]
          },
          "metadata": {},
          "execution_count": 99
        }
      ]
    },
    {
      "cell_type": "code",
      "execution_count": null,
      "outputs": [
        {
          "output_type": "stream",
          "name": "stderr",
          "text": [
            "/usr/local/lib/python3.7/dist-packages/sklearn/utils/deprecation.py:87: FutureWarning: Function get_feature_names is deprecated; get_feature_names is deprecated in 1.0 and will be removed in 1.2. Please use get_feature_names_out instead.\n",
            "  warnings.warn(msg, category=FutureWarning)\n"
          ]
        },
        {
          "output_type": "execute_result",
          "data": {
            "text/plain": [
              "   math score  reading score  writing score  race/ethnicity_group A  \\\n",
              "0          67             67             63                       1   \n",
              "1          40             59             55                       0   \n",
              "2          59             60             50                       0   \n",
              "3          77             78             68                       0   \n",
              "4          78             73             68                       0   \n",
              "\n",
              "   race/ethnicity_group B  race/ethnicity_group C  race/ethnicity_group D  \\\n",
              "0                       0                       0                       0   \n",
              "1                       0                       0                       1   \n",
              "2                       0                       0                       0   \n",
              "3                       1                       0                       0   \n",
              "4                       0                       0                       0   \n",
              "\n",
              "   race/ethnicity_group E  parental level of education_associate's degree  \\\n",
              "0                       0                                               0   \n",
              "1                       0                                               0   \n",
              "2                       1                                               0   \n",
              "3                       0                                               0   \n",
              "4                       1                                               1   \n",
              "\n",
              "   parental level of education_bachelor's degree  \\\n",
              "0                                              0   \n",
              "1                                              0   \n",
              "2                                              0   \n",
              "3                                              0   \n",
              "4                                              0   \n",
              "\n",
              "   parental level of education_high school  \\\n",
              "0                                        1   \n",
              "1                                        0   \n",
              "2                                        0   \n",
              "3                                        1   \n",
              "4                                        0   \n",
              "\n",
              "   parental level of education_master's degree  \\\n",
              "0                                            0   \n",
              "1                                            0   \n",
              "2                                            0   \n",
              "3                                            0   \n",
              "4                                            0   \n",
              "\n",
              "   parental level of education_some college  \\\n",
              "0                                         0   \n",
              "1                                         0   \n",
              "2                                         1   \n",
              "3                                         0   \n",
              "4                                         0   \n",
              "\n",
              "   parental level of education_some high school  gender_encoded  \\\n",
              "0                                             0               1   \n",
              "1                                             1               0   \n",
              "2                                             0               1   \n",
              "3                                             0               1   \n",
              "4                                             0               1   \n",
              "\n",
              "   test preparation course_encoded  lunch_encoded  \n",
              "0                                0              1  \n",
              "1                                1              0  \n",
              "2                                1              0  \n",
              "3                                1              1  \n",
              "4                                0              1  "
            ],
            "text/html": [
              "\n",
              "  <div id=\"df-27c4aa5f-3ede-4387-a078-e45da72bdf3e\">\n",
              "    <div class=\"colab-df-container\">\n",
              "      <div>\n",
              "<style scoped>\n",
              "    .dataframe tbody tr th:only-of-type {\n",
              "        vertical-align: middle;\n",
              "    }\n",
              "\n",
              "    .dataframe tbody tr th {\n",
              "        vertical-align: top;\n",
              "    }\n",
              "\n",
              "    .dataframe thead th {\n",
              "        text-align: right;\n",
              "    }\n",
              "</style>\n",
              "<table border=\"1\" class=\"dataframe\">\n",
              "  <thead>\n",
              "    <tr style=\"text-align: right;\">\n",
              "      <th></th>\n",
              "      <th>math score</th>\n",
              "      <th>reading score</th>\n",
              "      <th>writing score</th>\n",
              "      <th>race/ethnicity_group A</th>\n",
              "      <th>race/ethnicity_group B</th>\n",
              "      <th>race/ethnicity_group C</th>\n",
              "      <th>race/ethnicity_group D</th>\n",
              "      <th>race/ethnicity_group E</th>\n",
              "      <th>parental level of education_associate's degree</th>\n",
              "      <th>parental level of education_bachelor's degree</th>\n",
              "      <th>parental level of education_high school</th>\n",
              "      <th>parental level of education_master's degree</th>\n",
              "      <th>parental level of education_some college</th>\n",
              "      <th>parental level of education_some high school</th>\n",
              "      <th>gender_encoded</th>\n",
              "      <th>test preparation course_encoded</th>\n",
              "      <th>lunch_encoded</th>\n",
              "    </tr>\n",
              "  </thead>\n",
              "  <tbody>\n",
              "    <tr>\n",
              "      <th>0</th>\n",
              "      <td>67</td>\n",
              "      <td>67</td>\n",
              "      <td>63</td>\n",
              "      <td>1</td>\n",
              "      <td>0</td>\n",
              "      <td>0</td>\n",
              "      <td>0</td>\n",
              "      <td>0</td>\n",
              "      <td>0</td>\n",
              "      <td>0</td>\n",
              "      <td>1</td>\n",
              "      <td>0</td>\n",
              "      <td>0</td>\n",
              "      <td>0</td>\n",
              "      <td>1</td>\n",
              "      <td>0</td>\n",
              "      <td>1</td>\n",
              "    </tr>\n",
              "    <tr>\n",
              "      <th>1</th>\n",
              "      <td>40</td>\n",
              "      <td>59</td>\n",
              "      <td>55</td>\n",
              "      <td>0</td>\n",
              "      <td>0</td>\n",
              "      <td>0</td>\n",
              "      <td>1</td>\n",
              "      <td>0</td>\n",
              "      <td>0</td>\n",
              "      <td>0</td>\n",
              "      <td>0</td>\n",
              "      <td>0</td>\n",
              "      <td>0</td>\n",
              "      <td>1</td>\n",
              "      <td>0</td>\n",
              "      <td>1</td>\n",
              "      <td>0</td>\n",
              "    </tr>\n",
              "    <tr>\n",
              "      <th>2</th>\n",
              "      <td>59</td>\n",
              "      <td>60</td>\n",
              "      <td>50</td>\n",
              "      <td>0</td>\n",
              "      <td>0</td>\n",
              "      <td>0</td>\n",
              "      <td>0</td>\n",
              "      <td>1</td>\n",
              "      <td>0</td>\n",
              "      <td>0</td>\n",
              "      <td>0</td>\n",
              "      <td>0</td>\n",
              "      <td>1</td>\n",
              "      <td>0</td>\n",
              "      <td>1</td>\n",
              "      <td>1</td>\n",
              "      <td>0</td>\n",
              "    </tr>\n",
              "    <tr>\n",
              "      <th>3</th>\n",
              "      <td>77</td>\n",
              "      <td>78</td>\n",
              "      <td>68</td>\n",
              "      <td>0</td>\n",
              "      <td>1</td>\n",
              "      <td>0</td>\n",
              "      <td>0</td>\n",
              "      <td>0</td>\n",
              "      <td>0</td>\n",
              "      <td>0</td>\n",
              "      <td>1</td>\n",
              "      <td>0</td>\n",
              "      <td>0</td>\n",
              "      <td>0</td>\n",
              "      <td>1</td>\n",
              "      <td>1</td>\n",
              "      <td>1</td>\n",
              "    </tr>\n",
              "    <tr>\n",
              "      <th>4</th>\n",
              "      <td>78</td>\n",
              "      <td>73</td>\n",
              "      <td>68</td>\n",
              "      <td>0</td>\n",
              "      <td>0</td>\n",
              "      <td>0</td>\n",
              "      <td>0</td>\n",
              "      <td>1</td>\n",
              "      <td>1</td>\n",
              "      <td>0</td>\n",
              "      <td>0</td>\n",
              "      <td>0</td>\n",
              "      <td>0</td>\n",
              "      <td>0</td>\n",
              "      <td>1</td>\n",
              "      <td>0</td>\n",
              "      <td>1</td>\n",
              "    </tr>\n",
              "  </tbody>\n",
              "</table>\n",
              "</div>\n",
              "      <button class=\"colab-df-convert\" onclick=\"convertToInteractive('df-27c4aa5f-3ede-4387-a078-e45da72bdf3e')\"\n",
              "              title=\"Convert this dataframe to an interactive table.\"\n",
              "              style=\"display:none;\">\n",
              "        \n",
              "  <svg xmlns=\"http://www.w3.org/2000/svg\" height=\"24px\"viewBox=\"0 0 24 24\"\n",
              "       width=\"24px\">\n",
              "    <path d=\"M0 0h24v24H0V0z\" fill=\"none\"/>\n",
              "    <path d=\"M18.56 5.44l.94 2.06.94-2.06 2.06-.94-2.06-.94-.94-2.06-.94 2.06-2.06.94zm-11 1L8.5 8.5l.94-2.06 2.06-.94-2.06-.94L8.5 2.5l-.94 2.06-2.06.94zm10 10l.94 2.06.94-2.06 2.06-.94-2.06-.94-.94-2.06-.94 2.06-2.06.94z\"/><path d=\"M17.41 7.96l-1.37-1.37c-.4-.4-.92-.59-1.43-.59-.52 0-1.04.2-1.43.59L10.3 9.45l-7.72 7.72c-.78.78-.78 2.05 0 2.83L4 21.41c.39.39.9.59 1.41.59.51 0 1.02-.2 1.41-.59l7.78-7.78 2.81-2.81c.8-.78.8-2.07 0-2.86zM5.41 20L4 18.59l7.72-7.72 1.47 1.35L5.41 20z\"/>\n",
              "  </svg>\n",
              "      </button>\n",
              "      \n",
              "  <style>\n",
              "    .colab-df-container {\n",
              "      display:flex;\n",
              "      flex-wrap:wrap;\n",
              "      gap: 12px;\n",
              "    }\n",
              "\n",
              "    .colab-df-convert {\n",
              "      background-color: #E8F0FE;\n",
              "      border: none;\n",
              "      border-radius: 50%;\n",
              "      cursor: pointer;\n",
              "      display: none;\n",
              "      fill: #1967D2;\n",
              "      height: 32px;\n",
              "      padding: 0 0 0 0;\n",
              "      width: 32px;\n",
              "    }\n",
              "\n",
              "    .colab-df-convert:hover {\n",
              "      background-color: #E2EBFA;\n",
              "      box-shadow: 0px 1px 2px rgba(60, 64, 67, 0.3), 0px 1px 3px 1px rgba(60, 64, 67, 0.15);\n",
              "      fill: #174EA6;\n",
              "    }\n",
              "\n",
              "    [theme=dark] .colab-df-convert {\n",
              "      background-color: #3B4455;\n",
              "      fill: #D2E3FC;\n",
              "    }\n",
              "\n",
              "    [theme=dark] .colab-df-convert:hover {\n",
              "      background-color: #434B5C;\n",
              "      box-shadow: 0px 1px 3px 1px rgba(0, 0, 0, 0.15);\n",
              "      filter: drop-shadow(0px 1px 2px rgba(0, 0, 0, 0.3));\n",
              "      fill: #FFFFFF;\n",
              "    }\n",
              "  </style>\n",
              "\n",
              "      <script>\n",
              "        const buttonEl =\n",
              "          document.querySelector('#df-27c4aa5f-3ede-4387-a078-e45da72bdf3e button.colab-df-convert');\n",
              "        buttonEl.style.display =\n",
              "          google.colab.kernel.accessAllowed ? 'block' : 'none';\n",
              "\n",
              "        async function convertToInteractive(key) {\n",
              "          const element = document.querySelector('#df-27c4aa5f-3ede-4387-a078-e45da72bdf3e');\n",
              "          const dataTable =\n",
              "            await google.colab.kernel.invokeFunction('convertToInteractive',\n",
              "                                                     [key], {});\n",
              "          if (!dataTable) return;\n",
              "\n",
              "          const docLinkHtml = 'Like what you see? Visit the ' +\n",
              "            '<a target=\"_blank\" href=https://colab.research.google.com/notebooks/data_table.ipynb>data table notebook</a>'\n",
              "            + ' to learn more about interactive tables.';\n",
              "          element.innerHTML = '';\n",
              "          dataTable['output_type'] = 'display_data';\n",
              "          await google.colab.output.renderOutput(dataTable, element);\n",
              "          const docLink = document.createElement('div');\n",
              "          docLink.innerHTML = docLinkHtml;\n",
              "          element.appendChild(docLink);\n",
              "        }\n",
              "      </script>\n",
              "    </div>\n",
              "  </div>\n",
              "  "
            ]
          },
          "metadata": {},
          "execution_count": 100
        }
      ],
      "source": [
        "from sklearn.preprocessing import OrdinalEncoder, OneHotEncoder\n",
        "from sklearn.preprocessing import MinMaxScaler\n",
        "\n",
        "def encode_features(ds, features_to_encode):\n",
        "  encoder = OneHotEncoder(sparse=False)\n",
        "  encoder.fit(ds[features_to_encode])\n",
        "\n",
        "  new_feats = encoder.transform(ds[features_to_encode])\n",
        "  # create dataset from encoded features with named columns\n",
        "  new_cols = pd.DataFrame(new_feats, dtype=int, columns=encoder.get_feature_names(features_to_encode))\n",
        "  new_ds = pd.concat([ds, new_cols], axis=1)    \n",
        "  new_ds.drop(features_to_encode, axis=1, inplace=True)\n",
        "  return new_ds\n",
        "\n",
        "def encode_ordinal_features(ds, features_to_encode):\n",
        "  encoder = OrdinalEncoder()\n",
        "  encoder.fit(ds[features_to_encode])\n",
        "\n",
        "  new_feats = encoder.transform(ds[features_to_encode])\n",
        "  # create dataset from encoded features with named columns\n",
        "  new_cols = pd.DataFrame(new_feats, dtype=int, columns=list(map(lambda x: x + \"_encoded\", features_to_encode)))\n",
        "  new_ds = pd.concat([ds, new_cols], axis=1)    \n",
        "  new_ds.drop(features_to_encode, axis=1, inplace=True)\n",
        "  return new_ds\n",
        "\n",
        "\n",
        "def scale_data(x_train, x_test):\n",
        "  scaler = MinMaxScaler()\n",
        "  scaler.fit(x_train)\n",
        "  \n",
        "  x_train = pd.DataFrame(scaler.transform(x_train), columns=x_train.columns)\n",
        "  x_test = pd.DataFrame(scaler.transform(x_test), columns=x_test.columns)\n",
        "  return (x_train, x_test, scaler)\n",
        "\n",
        "df = encode_features(df, [\"race/ethnicity\", \"parental level of education\"])\n",
        "df = encode_ordinal_features(df, [\"gender\", \"test preparation course\", \"lunch\"])\n",
        "df.head(5)\n",
        "\n"
      ],
      "metadata": {
        "pycharm": {
          "name": "#%%\n"
        },
        "colab": {
          "base_uri": "https://localhost:8080/",
          "height": 360
        },
        "id": "e-ztoqcXTRXU",
        "outputId": "7452e697-7d52-40c8-e4a0-bc52d5aeb757"
      }
    },
    {
      "cell_type": "markdown",
      "source": [
        "Splitting data"
      ],
      "metadata": {
        "id": "lDBQ76hXuXe9"
      }
    },
    {
      "cell_type": "code",
      "source": [
        "df_x = df.iloc[:,3:]\n",
        "df_y  = df.iloc[:,:3] / 100\n",
        "df_x_train, df_x_test, df_y_train, df_y_test = train_test_split(\n",
        "      df_x, df_y, test_size = 0.2, random_state=28)\n",
        "\n",
        "df_x_train, df_x_test, _ = scale_data(df_x_train, df_x_test)"
      ],
      "metadata": {
        "id": "QzxSdZYauW6Y"
      },
      "execution_count": null,
      "outputs": []
    },
    {
      "cell_type": "markdown",
      "source": [
        "Creating pytorch dataset\n"
      ],
      "metadata": {
        "id": "8iT8TzOZqSEs"
      }
    },
    {
      "cell_type": "code",
      "source": [
        "import torch\n",
        "from torch.utils.data import Dataset, DataLoader, random_split\n",
        "\n",
        "class CustumData(Dataset):\n",
        "    def __init__(self, X, y):\n",
        "        super().__init__()\n",
        "        self.y = torch.tensor(y).float()\n",
        "        self.X = torch.tensor(X).float()\n",
        "\n",
        "    def __len__(self):\n",
        "        return len(self.X)\n",
        "    \n",
        "    def __getitem__(self, idx):\n",
        "        return self.X[idx, :], self.y[idx]\n",
        "\n",
        "\n",
        "train_dataset = CustumData(df_x_train.values, df_y_train.values)\n",
        "test_dataset = CustumData(df_x_test.values, df_y_test.values) \n",
        "\n",
        "train_dataloader = DataLoader(train_dataset, 128, shuffle=True)\n",
        "test_dataloader = DataLoader(test_dataset, 128, shuffle=False)\n",
        "\n",
        "data, label = next(iter(train_dataloader))\n",
        "label.shape"
      ],
      "metadata": {
        "colab": {
          "base_uri": "https://localhost:8080/"
        },
        "id": "i1nImxAnqU4Y",
        "outputId": "45494b7e-cf12-450e-bae5-840f5d092876"
      },
      "execution_count": null,
      "outputs": [
        {
          "output_type": "execute_result",
          "data": {
            "text/plain": [
              "torch.Size([128, 3])"
            ]
          },
          "metadata": {},
          "execution_count": 102
        }
      ]
    },
    {
      "cell_type": "markdown",
      "source": [
        "Creating a model:"
      ],
      "metadata": {
        "id": "99Eg3oNB6aOf"
      }
    },
    {
      "cell_type": "code",
      "source": [
        "import torch.nn as nn\n",
        "import torch.nn.functional as F\n",
        "from time import time \n",
        "\n",
        "class ANN_model(nn.Module):\n",
        "    def __init__(self, layers_and_neurons = [64, 64], activation_function = F.leaky_relu):\n",
        "        super(ANN_model, self).__init__()\n",
        "        self.input_layer = nn.Linear(14, layers_and_neurons[0])\n",
        "        for i in range(0, len(layers_and_neurons) - 1):\n",
        "          self.layers.append(nn.Linear(layers_and_neurons[i], layers_and_neurons[i + 1]))\n",
        "        self.output_layer = nn.Linear(layers_and_neurons[-1], 3)\n",
        "        self.activation_function = activation_function\n",
        "    \n",
        "    def forward(self, x):\n",
        "        x = self.activation_function(self.input_layer(x))\n",
        "        for i in range(0, len(self.layers)):\n",
        "          x = self.activation_function(self.layers[i](x))\n",
        "        x = self.output_layer(x)\n",
        "        return x\n",
        "\n",
        "use_cuda = torch.cuda.is_available()\n",
        "device = torch.device(\"cuda:0\" if use_cuda else \"cpu\")\n",
        "\n",
        "import operator\n",
        "import numpy as np\n",
        "import tensorflow as tf\n",
        "class EarlyStopping():\n",
        "    def __init__(self, tolerance=5, min_delta=0, mode='min'):\n",
        "        self.tolerance = tolerance\n",
        "        self.min_delta = min_delta\n",
        "        self.mode = mode\n",
        "        self.counter = 0\n",
        "        self.early_stop = False\n",
        "        self.prev_metric = np.inf if mode == 'min' else -np.inf\n",
        "\n",
        "        self.operation = operator.gt if mode == 'min' else operator.lt\n",
        "\n",
        "    def __call__(self, metric):\n",
        "        delta = (metric - self.prev_metric)\n",
        "\n",
        "        if self.operation(delta, self.min_delta):\n",
        "            self.counter +=1\n",
        "        else:\n",
        "            self.counter = 0\n",
        "            self.prev_metric = metric\n",
        "\n",
        "        if self.counter >= self.tolerance:\n",
        "            self.early_stop = True\n",
        "        return self.early_stop\n",
        "\n",
        "def train(model, device, train_loader, criterion, optimizer, epoch):\n",
        "    model.train()\n",
        "    epoch_loss = 0\n",
        "    start_time = time()\n",
        "    correct = 0\n",
        "    log_interval = 10\n",
        "\n",
        "    for batch_idx, (data, target) in enumerate(train_loader):\n",
        "        data, target = data.to(device), target.to(device)\n",
        "        optimizer.zero_grad()\n",
        "        output = model(data)\n",
        "        \n",
        "        #print(f'Target: {target}')\n",
        "        #print(f'Output: {output}')\n",
        "\n",
        "\n",
        "        loss = criterion(output, target)\n",
        "        loss.backward()\n",
        "        optimizer.step()\n",
        "        epoch_loss += loss.item()\n",
        "\n",
        "        if batch_idx % log_interval == 0:\n",
        "            print(f'\\rTrain Epoch {epoch}:',\n",
        "                  f'[{batch_idx * len(data)}/{len(train_loader.dataset)}',\n",
        "                  f'({100. * batch_idx / len(train_loader):.0f}%)]',\n",
        "                  f'\\tLoss: {loss.item():.6f}',\n",
        "                  end='')\n",
        "         \n",
        "    print(f'\\rTrain Epoch: {epoch} Average Loss: {epoch_loss/len(train_loader.dataset):.6f}, elapsed time:{time()-start_time:.2f}s')\n",
        "    return epoch_loss\n",
        "\n",
        "def test( model, device, test_loader, criterion):\n",
        "    model.eval()\n",
        "    test_loss = 0\n",
        "    mse_loss = 0\n",
        "    mae_loss = 0\n",
        "\n",
        "    with torch.no_grad():\n",
        "        for data, target in test_loader:\n",
        "            data, target = data.to(device), target.to(device)\n",
        "            output = model(data)\n",
        "            mse_loss += F.mse_loss(output, target, reduction='sum').item()\n",
        "            test_loss += F.l1_loss(output, target, reduction='sum').item()  # sum up batch loss\n",
        "            #print(f'Target: {target}')\n",
        "            #print(f'Output: {output}')\n",
        "\n",
        "    print(f'\\rTest set: Average loss: {test_loss/len(test_loader.dataset):.4f}')\n",
        "    \n",
        "    return test_loss, mse_loss\n",
        "\n",
        "  "
      ],
      "metadata": {
        "id": "a3HLPOb-6Z8Q"
      },
      "execution_count": null,
      "outputs": []
    },
    {
      "cell_type": "code",
      "source": [
        "import torch.optim as optim\n",
        "from torch.utils.tensorboard import SummaryWriter\n",
        "import copy\n",
        "\n",
        "def check_model(model, device, test_dataloader, train_dataloader):\n",
        "  writer = SummaryWriter(log_dir='runs/model')\n",
        "\n",
        "  epochs = 100\n",
        "  lr = 0.1  # will start with big LR to see the lr_scheduler work\n",
        "  momentum = 0.5\n",
        "  log_interval = 10\n",
        "\n",
        "  criterion = nn.L1Loss()\n",
        "  optimizer = optim.SGD(model.parameters(), lr=lr, momentum=0.9)\n",
        "  scheduler = optim.lr_scheduler.ReduceLROnPlateau(optimizer, 'min', factor=0.3, patience=3, verbose=True)\n",
        "  early_stopping = EarlyStopping(tolerance=7, mode='min')\n",
        "\n",
        "  best_model_wts = copy.deepcopy(model.state_dict())\n",
        "  best_loss, best_mse, best_mae = 10000, 120, 200\n",
        "\n",
        "  for epoch in range(1, epochs + 1):\n",
        "      train_loss = train(model, device, train_dataloader, criterion, optimizer, epoch)\n",
        "      scheduler.step(train_loss)\n",
        "\n",
        "      test_loss, test_mse = test(model, device, test_dataloader, criterion)\n",
        "      if early_stopping(test_loss):\n",
        "        print('\\nEarly stopping\\n')\n",
        "        break\n",
        "\n",
        "      writer.add_scalars('Loss',\n",
        "                          {\n",
        "                              'train': train_loss,\n",
        "                              'test': test_loss\n",
        "                          },\n",
        "                          epoch)\n",
        "      if test_loss < best_loss:\n",
        "          best_loss = test_loss\n",
        "          best_mse = test_mse\n",
        "          best_model_wts = copy.deepcopy(model.state_dict())\n",
        "\n",
        "  writer.close()\n",
        "  # we can also save every X epochs, so if our machine crashes we don't lose our progress\n",
        "  torch.save(model.state_dict(), \"model.pt\")\n",
        "\n",
        "  model.load_state_dict(best_model_wts)\n",
        "  torch.save(model.state_dict(), \"best_model.pt\")\n",
        "  return best_loss, best_mse\n",
        "\n",
        "#check_model(ANN_model(), test_dataloader, train_dataloader)"
      ],
      "metadata": {
        "id": "WR1BYG5JPue7"
      },
      "execution_count": null,
      "outputs": []
    },
    {
      "cell_type": "markdown",
      "source": [
        "### Tuning model"
      ],
      "metadata": {
        "id": "NcOq1F4ritS0"
      }
    },
    {
      "cell_type": "code",
      "source": [
        "import random\n",
        "# checking amount of layers\n",
        "\n",
        "use_cuda = torch.cuda.is_available()\n",
        "device = torch.device(\"cuda:0\" if use_cuda else \"cpu\")\n",
        "\n",
        "three_layer_model = ANN_model().to(device)\n",
        "print(three_layer_model)\n",
        "three_layer_loss, three_layer_mse = check_model(three_layer_model, device, test_dataloader, train_dataloader)"
      ],
      "metadata": {
        "colab": {
          "base_uri": "https://localhost:8080/"
        },
        "id": "ZuGgozH7ixKQ",
        "outputId": "45d452e4-f9c3-4338-f861-774e12f95874"
      },
      "execution_count": null,
      "outputs": [
        {
          "output_type": "stream",
          "name": "stdout",
          "text": [
            "ANN_model(\n",
            "  (input_layer): Linear(in_features=14, out_features=64, bias=True)\n",
            "  (output_layer): Linear(in_features=64, out_features=3, bias=True)\n",
            ")\n",
            "\rTrain Epoch 1: [0/800 (0%)] \tLoss: 0.672741\rTrain Epoch: 1 Average Loss: 0.003356, elapsed time:0.01s\n",
            "\rTest set: Average loss: 0.9576\n",
            "\rTrain Epoch 2: [0/800 (0%)] \tLoss: 0.312343\rTrain Epoch: 2 Average Loss: 0.002116, elapsed time:0.01s\n",
            "\rTest set: Average loss: 0.6016\n",
            "\rTrain Epoch 3: [0/800 (0%)] \tLoss: 0.214837\rTrain Epoch: 3 Average Loss: 0.001449, elapsed time:0.01s\n",
            "\rTest set: Average loss: 0.4637\n",
            "\rTrain Epoch 4: [0/800 (0%)] \tLoss: 0.155134\rTrain Epoch: 4 Average Loss: 0.001207, elapsed time:0.02s\n",
            "\rTest set: Average loss: 0.4327\n",
            "\rTrain Epoch 5: [0/800 (0%)] \tLoss: 0.147981\rTrain Epoch: 5 Average Loss: 0.001094, elapsed time:0.01s\n",
            "\rTest set: Average loss: 0.3650\n",
            "\rTrain Epoch 6: [0/800 (0%)] \tLoss: 0.130772\rTrain Epoch: 6 Average Loss: 0.001034, elapsed time:0.01s\n",
            "\rTest set: Average loss: 0.3501\n",
            "\rTrain Epoch 7: [0/800 (0%)] \tLoss: 0.116953\rTrain Epoch: 7 Average Loss: 0.001002, elapsed time:0.01s\n",
            "\rTest set: Average loss: 0.3378\n",
            "\rTrain Epoch 8: [0/800 (0%)] \tLoss: 0.112610\rTrain Epoch: 8 Average Loss: 0.000956, elapsed time:0.01s\n",
            "\rTest set: Average loss: 0.3228\n",
            "\rTrain Epoch 9: [0/800 (0%)] \tLoss: 0.118710\rTrain Epoch: 9 Average Loss: 0.000940, elapsed time:0.01s\n",
            "\rTest set: Average loss: 0.3213\n",
            "\rTrain Epoch 10: [0/800 (0%)] \tLoss: 0.114313\rTrain Epoch: 10 Average Loss: 0.000932, elapsed time:0.01s\n",
            "\rTest set: Average loss: 0.3085\n",
            "\rTrain Epoch 11: [0/800 (0%)] \tLoss: 0.112191\rTrain Epoch: 11 Average Loss: 0.000926, elapsed time:0.01s\n",
            "Test set: Average loss: 0.3206\n",
            "Train Epoch: 12 Average Loss: 0.000899, elapsed time:0.02s\n",
            "Test set: Average loss: 0.3076\n",
            "Train Epoch: 13 Average Loss: 0.000918, elapsed time:0.01s\n",
            "Test set: Average loss: 0.3162\n",
            "Train Epoch: 14 Average Loss: 0.000901, elapsed time:0.01s\n",
            "Test set: Average loss: 0.3021\n",
            "Train Epoch: 15 Average Loss: 0.000902, elapsed time:0.01s\n",
            "Test set: Average loss: 0.3050\n",
            "Train Epoch: 16 Average Loss: 0.000890, elapsed time:0.01s\n",
            "Test set: Average loss: 0.3043\n",
            "Train Epoch: 17 Average Loss: 0.000899, elapsed time:0.01s\n",
            "Test set: Average loss: 0.3110\n",
            "Train Epoch: 18 Average Loss: 0.000889, elapsed time:0.01s\n",
            "Test set: Average loss: 0.3018\n",
            "Train Epoch: 19 Average Loss: 0.000906, elapsed time:0.02s\n",
            "Test set: Average loss: 0.3022\n",
            "Train Epoch: 20 Average Loss: 0.000873, elapsed time:0.01s\n",
            "Test set: Average loss: 0.3019\n",
            "Train Epoch: 21 Average Loss: 0.000890, elapsed time:0.01s\n",
            "Test set: Average loss: 0.3150\n",
            "Train Epoch: 22 Average Loss: 0.000892, elapsed time:0.01s\n",
            "Test set: Average loss: 0.3042\n",
            "Train Epoch: 23 Average Loss: 0.000881, elapsed time:0.01s\n",
            "Test set: Average loss: 0.3162\n",
            "Train Epoch: 24 Average Loss: 0.000855, elapsed time:0.01s\n",
            "Test set: Average loss: 0.3019\n",
            "Train Epoch: 25 Average Loss: 0.000876, elapsed time:0.01s\n",
            "Test set: Average loss: 0.3057\n",
            "\n",
            "Early stopping\n",
            "\n"
          ]
        }
      ]
    },
    {
      "cell_type": "code",
      "source": [
        "fifty_layer_model = ANN_model(layers_and_neurons = [random.randrange(512) for i in range(50)]).to(device)\n",
        "fifty_layer_loss, fifty_layer_mse = check_model(fifty_layer_model, device, test_dataloader, train_dataloader)"
      ],
      "metadata": {
        "colab": {
          "base_uri": "https://localhost:8080/"
        },
        "id": "FnA4Iouilmwr",
        "outputId": "b758703c-8f48-4884-8973-8c446bca72f1"
      },
      "execution_count": null,
      "outputs": [
        {
          "output_type": "stream",
          "name": "stdout",
          "text": [
            "Train Epoch: 1 Average Loss: 0.003566, elapsed time:0.38s\n",
            "Test set: Average loss: 0.8725\n",
            "Train Epoch: 2 Average Loss: 0.002512, elapsed time:0.37s\n",
            "Test set: Average loss: 0.4684\n",
            "Train Epoch: 3 Average Loss: 0.001635, elapsed time:0.39s\n",
            "Test set: Average loss: 0.4179\n",
            "Train Epoch: 4 Average Loss: 0.001321, elapsed time:0.37s\n",
            "Test set: Average loss: 0.4298\n",
            "Train Epoch: 5 Average Loss: 0.001230, elapsed time:0.36s\n",
            "Test set: Average loss: 0.3971\n",
            "Train Epoch: 6 Average Loss: 0.001123, elapsed time:0.38s\n",
            "Test set: Average loss: 0.3877\n",
            "Train Epoch: 7 Average Loss: 0.001081, elapsed time:0.40s\n",
            "Test set: Average loss: 0.3808\n",
            "Train Epoch: 8 Average Loss: 0.001096, elapsed time:0.38s\n",
            "Test set: Average loss: 0.3801\n",
            "Train Epoch: 9 Average Loss: 0.001061, elapsed time:0.36s\n",
            "Test set: Average loss: 0.3784\n",
            "Train Epoch: 10 Average Loss: 0.001062, elapsed time:0.37s\n",
            "Test set: Average loss: 0.3790\n",
            "Train Epoch: 11 Average Loss: 0.001078, elapsed time:0.37s\n",
            "Test set: Average loss: 0.3776\n",
            "Train Epoch: 12 Average Loss: 0.001078, elapsed time:0.36s\n",
            "Test set: Average loss: 0.3820\n",
            "Train Epoch: 13 Average Loss: 0.001107, elapsed time:0.36s\n",
            "Epoch 00013: reducing learning rate of group 0 to 3.0000e-02.\n",
            "Test set: Average loss: 0.3786\n",
            "Train Epoch: 14 Average Loss: 0.001086, elapsed time:0.36s\n",
            "Test set: Average loss: 0.3782\n",
            "Train Epoch: 15 Average Loss: 0.001087, elapsed time:0.37s\n",
            "Test set: Average loss: 0.3852\n",
            "Train Epoch: 16 Average Loss: 0.001082, elapsed time:0.36s\n",
            "Test set: Average loss: 0.3786\n",
            "Train Epoch: 17 Average Loss: 0.001073, elapsed time:0.36s\n",
            "Epoch 00017: reducing learning rate of group 0 to 9.0000e-03.\n",
            "Test set: Average loss: 0.3778\n",
            "Train Epoch: 18 Average Loss: 0.001077, elapsed time:0.37s\n",
            "Test set: Average loss: 0.3786\n",
            "\n",
            "Early stopping\n",
            "\n"
          ]
        }
      ]
    },
    {
      "cell_type": "code",
      "source": [
        "thousand_layer_model = ANN_model(layers_and_neurons = [random.randrange(512) for i in range(50)]).to(device)\n",
        "thousand_layer_loss, thousand_layer_mse = check_model(thousand_layer_model, device, test_dataloader, train_dataloader)\n",
        "\n",
        "print(\"\\n\\n\\n\\n\")\n",
        "print(f'\\n Three layer model L1 loss: {three_layer_loss}, mse: {three_layer_mse}',\n",
        "          f'\\n Fifty layer model L1 loss: {fifty_layer_loss}, mse: {fifty_layer_mse},', \n",
        "          f'\\n Thousamd layer model L1 loss: {thousand_layer_loss}, mse: {thousand_layer_mse}')"
      ],
      "metadata": {
        "colab": {
          "base_uri": "https://localhost:8080/"
        },
        "id": "5IvvBlSxlrho",
        "outputId": "b0a000b4-dfc9-4eb2-a804-412d333b0381"
      },
      "execution_count": null,
      "outputs": [
        {
          "output_type": "stream",
          "name": "stdout",
          "text": [
            "\rTrain Epoch 1: [0/800 (0%)] \tLoss: 0.632802"
          ]
        },
        {
          "output_type": "stream",
          "name": "stderr",
          "text": [
            "/usr/local/lib/python3.7/dist-packages/torch/nn/init.py:405: UserWarning: Initializing zero-element tensors is a no-op\n",
            "  warnings.warn(\"Initializing zero-element tensors is a no-op\")\n"
          ]
        },
        {
          "output_type": "stream",
          "name": "stdout",
          "text": [
            "\rTrain Epoch: 1 Average Loss: 0.003717, elapsed time:0.35s\n",
            "Test set: Average loss: 0.4519\n",
            "Train Epoch: 2 Average Loss: 0.002317, elapsed time:0.36s\n",
            "Test set: Average loss: 0.5311\n",
            "Train Epoch: 3 Average Loss: 0.001519, elapsed time:0.36s\n",
            "Test set: Average loss: 0.5420\n",
            "Train Epoch: 4 Average Loss: 0.001357, elapsed time:0.35s\n",
            "Test set: Average loss: 0.4599\n",
            "Train Epoch: 5 Average Loss: 0.001230, elapsed time:0.35s\n",
            "Test set: Average loss: 0.4408\n",
            "Train Epoch: 6 Average Loss: 0.001160, elapsed time:0.36s\n",
            "Test set: Average loss: 0.3942\n",
            "Train Epoch: 7 Average Loss: 0.001138, elapsed time:0.36s\n",
            "Test set: Average loss: 0.3923\n",
            "Train Epoch: 8 Average Loss: 0.001101, elapsed time:0.35s\n",
            "Test set: Average loss: 0.3778\n",
            "Train Epoch: 9 Average Loss: 0.001086, elapsed time:0.35s\n",
            "Test set: Average loss: 0.3786\n",
            "Train Epoch: 10 Average Loss: 0.001105, elapsed time:0.36s\n",
            "Test set: Average loss: 0.3787\n",
            "Train Epoch: 11 Average Loss: 0.001077, elapsed time:0.36s\n",
            "Test set: Average loss: 0.3784\n",
            "Train Epoch: 12 Average Loss: 0.001070, elapsed time:0.34s\n",
            "Test set: Average loss: 0.3783\n",
            "Train Epoch: 13 Average Loss: 0.001078, elapsed time:0.35s\n",
            "Test set: Average loss: 0.3782\n",
            "Train Epoch: 14 Average Loss: 0.001059, elapsed time:0.36s\n",
            "Test set: Average loss: 0.3788\n",
            "Train Epoch: 15 Average Loss: 0.001068, elapsed time:0.35s\n",
            "Test set: Average loss: 0.3806\n",
            "\n",
            "Early stopping\n",
            "\n",
            "\n",
            "\n",
            "\n",
            "\n",
            "\n",
            "\n",
            " Three layer model L1 loss: 60.350765228271484, mse: 9.533671379089355 \n",
            " Fifty layer model L1 loss: 75.51679420471191, mse: 14.399005889892578, \n",
            " Thousamd layer model L1 loss: 75.56796646118164, mse: 14.671992301940918\n"
          ]
        }
      ]
    },
    {
      "cell_type": "code",
      "source": [
        "ten_neuron_model = ANN_model(layers_and_neurons=[20, 64, 14]).to(device)\n",
        "ten_neuron_loss, ten_neuron_mse = check_model(ten_neuron_model, device, test_dataloader, train_dataloader)"
      ],
      "metadata": {
        "colab": {
          "base_uri": "https://localhost:8080/"
        },
        "id": "ieeWStpanwOV",
        "outputId": "3eb158b7-caae-4d02-d04f-5564224fa063"
      },
      "execution_count": null,
      "outputs": [
        {
          "output_type": "stream",
          "name": "stdout",
          "text": [
            "\rTrain Epoch 1: [0/800 (0%)] \tLoss: 0.612709\rTrain Epoch: 1 Average Loss: 0.003457, elapsed time:0.01s\n",
            "\rTest set: Average loss: 0.5576\n",
            "\rTrain Epoch 2: [0/800 (0%)] \tLoss: 0.179423\rTrain Epoch: 2 Average Loss: 0.002117, elapsed time:0.01s\n",
            "\rTest set: Average loss: 0.5404\n",
            "\rTrain Epoch 3: [0/800 (0%)] \tLoss: 0.180558\rTrain Epoch: 3 Average Loss: 0.001578, elapsed time:0.01s\n",
            "\rTest set: Average loss: 0.4867\n",
            "\rTrain Epoch 4: [0/800 (0%)] \tLoss: 0.159159\rTrain Epoch: 4 Average Loss: 0.001339, elapsed time:0.02s\n",
            "\rTest set: Average loss: 0.4177\n",
            "\rTrain Epoch 5: [0/800 (0%)] \tLoss: 0.136386\rTrain Epoch: 5 Average Loss: 0.001198, elapsed time:0.01s\n",
            "\rTest set: Average loss: 0.4106\n",
            "\rTrain Epoch 6: [0/800 (0%)] \tLoss: 0.134681\rTrain Epoch: 6 Average Loss: 0.001122, elapsed time:0.01s\n",
            "\rTest set: Average loss: 0.3846\n",
            "\rTrain Epoch 7: [0/800 (0%)] \tLoss: 0.127633\rTrain Epoch: 7 Average Loss: 0.001104, elapsed time:0.01s\n",
            "Test set: Average loss: 0.3865\n",
            "Train Epoch: 8 Average Loss: 0.001087, elapsed time:0.02s\n",
            "Test set: Average loss: 0.3731\n",
            "Train Epoch: 9 Average Loss: 0.001092, elapsed time:0.01s\n",
            "Test set: Average loss: 0.3754\n",
            "Train Epoch: 10 Average Loss: 0.001048, elapsed time:0.01s\n",
            "Test set: Average loss: 0.3709\n",
            "Train Epoch: 11 Average Loss: 0.001074, elapsed time:0.01s\n",
            "Test set: Average loss: 0.3719\n",
            "Train Epoch: 12 Average Loss: 0.001030, elapsed time:0.02s\n",
            "Test set: Average loss: 0.3681\n",
            "Train Epoch: 13 Average Loss: 0.001037, elapsed time:0.02s\n",
            "Test set: Average loss: 0.3685\n",
            "Train Epoch: 14 Average Loss: 0.001075, elapsed time:0.02s\n",
            "Test set: Average loss: 0.3647\n",
            "Train Epoch: 15 Average Loss: 0.001045, elapsed time:0.01s\n",
            "Test set: Average loss: 0.3665\n",
            "Train Epoch: 16 Average Loss: 0.001044, elapsed time:0.01s\n",
            "Epoch 00016: reducing learning rate of group 0 to 3.0000e-02.\n",
            "Test set: Average loss: 0.3607\n",
            "Train Epoch: 17 Average Loss: 0.001019, elapsed time:0.01s\n",
            "Test set: Average loss: 0.3610\n",
            "Train Epoch: 18 Average Loss: 0.001031, elapsed time:0.01s\n",
            "Test set: Average loss: 0.3587\n",
            "Train Epoch: 19 Average Loss: 0.001011, elapsed time:0.01s\n",
            "Test set: Average loss: 0.3581\n",
            "Train Epoch: 20 Average Loss: 0.001037, elapsed time:0.02s\n",
            "Test set: Average loss: 0.3577\n",
            "Train Epoch: 21 Average Loss: 0.001006, elapsed time:0.02s\n",
            "Test set: Average loss: 0.3567\n",
            "Train Epoch: 22 Average Loss: 0.001019, elapsed time:0.02s\n",
            "Test set: Average loss: 0.3552\n",
            "Train Epoch: 23 Average Loss: 0.000998, elapsed time:0.02s\n",
            "Test set: Average loss: 0.3545\n",
            "Train Epoch: 24 Average Loss: 0.001009, elapsed time:0.01s\n",
            "Test set: Average loss: 0.3547\n",
            "Train Epoch: 25 Average Loss: 0.001012, elapsed time:0.01s\n",
            "Test set: Average loss: 0.3520\n",
            "Train Epoch: 26 Average Loss: 0.001015, elapsed time:0.01s\n",
            "Test set: Average loss: 0.3517\n",
            "Train Epoch: 27 Average Loss: 0.000988, elapsed time:0.01s\n",
            "Test set: Average loss: 0.3511\n",
            "Train Epoch: 28 Average Loss: 0.000997, elapsed time:0.01s\n",
            "Test set: Average loss: 0.3502\n",
            "Train Epoch: 29 Average Loss: 0.000989, elapsed time:0.02s\n",
            "Test set: Average loss: 0.3483\n",
            "Train Epoch: 30 Average Loss: 0.001003, elapsed time:0.01s\n",
            "Test set: Average loss: 0.3465\n",
            "Train Epoch: 31 Average Loss: 0.000996, elapsed time:0.01s\n",
            "Epoch 00031: reducing learning rate of group 0 to 9.0000e-03.\n",
            "Test set: Average loss: 0.3453\n",
            "Train Epoch: 32 Average Loss: 0.000992, elapsed time:0.01s\n",
            "Test set: Average loss: 0.3450\n",
            "Train Epoch: 33 Average Loss: 0.000985, elapsed time:0.01s\n",
            "Test set: Average loss: 0.3443\n",
            "Train Epoch: 34 Average Loss: 0.000999, elapsed time:0.01s\n",
            "Test set: Average loss: 0.3441\n",
            "Train Epoch: 35 Average Loss: 0.000972, elapsed time:0.02s\n",
            "Test set: Average loss: 0.3435\n",
            "Train Epoch: 36 Average Loss: 0.000975, elapsed time:0.01s\n",
            "Test set: Average loss: 0.3433\n",
            "Train Epoch: 37 Average Loss: 0.000995, elapsed time:0.01s\n",
            "Test set: Average loss: 0.3430\n",
            "Train Epoch: 38 Average Loss: 0.000981, elapsed time:0.01s\n",
            "Test set: Average loss: 0.3426\n",
            "Train Epoch: 39 Average Loss: 0.000976, elapsed time:0.02s\n",
            "Epoch 00039: reducing learning rate of group 0 to 2.7000e-03.\n",
            "Test set: Average loss: 0.3426\n",
            "Train Epoch: 40 Average Loss: 0.000983, elapsed time:0.01s\n",
            "Test set: Average loss: 0.3424\n",
            "Train Epoch: 41 Average Loss: 0.000978, elapsed time:0.01s\n",
            "Test set: Average loss: 0.3424\n",
            "Train Epoch: 42 Average Loss: 0.000980, elapsed time:0.02s\n",
            "Test set: Average loss: 0.3423\n",
            "Train Epoch: 43 Average Loss: 0.000983, elapsed time:0.01s\n",
            "Epoch 00043: reducing learning rate of group 0 to 8.1000e-04.\n",
            "Test set: Average loss: 0.3420\n",
            "Train Epoch: 44 Average Loss: 0.000996, elapsed time:0.01s\n",
            "Test set: Average loss: 0.3420\n",
            "Train Epoch: 45 Average Loss: 0.000992, elapsed time:0.01s\n",
            "Test set: Average loss: 0.3420\n",
            "Train Epoch: 46 Average Loss: 0.000983, elapsed time:0.02s\n",
            "Test set: Average loss: 0.3421\n",
            "Train Epoch: 47 Average Loss: 0.000993, elapsed time:0.01s\n",
            "Epoch 00047: reducing learning rate of group 0 to 2.4300e-04.\n",
            "Test set: Average loss: 0.3421\n",
            "Train Epoch: 48 Average Loss: 0.000985, elapsed time:0.01s\n",
            "Test set: Average loss: 0.3421\n",
            "Train Epoch: 49 Average Loss: 0.000963, elapsed time:0.01s\n",
            "Test set: Average loss: 0.3421\n",
            "Train Epoch: 50 Average Loss: 0.000966, elapsed time:0.01s\n",
            "Test set: Average loss: 0.3421\n",
            "\n",
            "Early stopping\n",
            "\n"
          ]
        }
      ]
    },
    {
      "cell_type": "code",
      "source": [
        "hundred_neuron_model = ANN_model(layers_and_neurons=[128, 512, 256]).to(device)\n",
        "hundred_neuron_loss, hundred_neuron_mse = check_model(hundred_neuron_model, device, test_dataloader, train_dataloader)"
      ],
      "metadata": {
        "colab": {
          "base_uri": "https://localhost:8080/"
        },
        "id": "u5Eq2dqCqOos",
        "outputId": "24d6e146-db7f-499c-8f02-1c1ea1c7dda3"
      },
      "execution_count": null,
      "outputs": [
        {
          "output_type": "stream",
          "name": "stdout",
          "text": [
            "\rTrain Epoch 1: [0/800 (0%)] \tLoss: 0.678451\rTrain Epoch: 1 Average Loss: 0.003512, elapsed time:0.03s\n",
            "Test set: Average loss: 0.7587\n",
            "Train Epoch: 2 Average Loss: 0.002207, elapsed time:0.03s\n",
            "Test set: Average loss: 0.4379\n",
            "Train Epoch: 3 Average Loss: 0.001435, elapsed time:0.03s\n",
            "Test set: Average loss: 0.3873\n",
            "Train Epoch: 4 Average Loss: 0.001309, elapsed time:0.03s\n",
            "Test set: Average loss: 0.3909\n",
            "Train Epoch: 5 Average Loss: 0.001200, elapsed time:0.03s\n",
            "Test set: Average loss: 0.3625\n",
            "Train Epoch: 6 Average Loss: 0.001115, elapsed time:0.03s\n",
            "Test set: Average loss: 0.3689\n",
            "Train Epoch: 7 Average Loss: 0.001051, elapsed time:0.03s\n",
            "Test set: Average loss: 0.3509\n",
            "Train Epoch: 8 Average Loss: 0.001013, elapsed time:0.03s\n",
            "Test set: Average loss: 0.3501\n",
            "Train Epoch: 9 Average Loss: 0.000985, elapsed time:0.04s\n",
            "Test set: Average loss: 0.3344\n",
            "Train Epoch: 10 Average Loss: 0.000989, elapsed time:0.03s\n",
            "Test set: Average loss: 0.3316\n",
            "Train Epoch: 11 Average Loss: 0.000952, elapsed time:0.03s\n",
            "Test set: Average loss: 0.3227\n",
            "Train Epoch: 12 Average Loss: 0.000940, elapsed time:0.03s\n",
            "Test set: Average loss: 0.3156\n",
            "Train Epoch: 13 Average Loss: 0.000929, elapsed time:0.03s\n",
            "Test set: Average loss: 0.3206\n",
            "Train Epoch: 14 Average Loss: 0.000919, elapsed time:0.03s\n",
            "Test set: Average loss: 0.3099\n",
            "Train Epoch: 15 Average Loss: 0.000911, elapsed time:0.03s\n",
            "Test set: Average loss: 0.3062\n",
            "Train Epoch: 16 Average Loss: 0.000912, elapsed time:0.03s\n",
            "Test set: Average loss: 0.3059\n",
            "Train Epoch: 17 Average Loss: 0.000900, elapsed time:0.03s\n",
            "Test set: Average loss: 0.3033\n",
            "Train Epoch: 18 Average Loss: 0.000895, elapsed time:0.03s\n",
            "Test set: Average loss: 0.3049\n",
            "Train Epoch: 19 Average Loss: 0.000913, elapsed time:0.04s\n",
            "Test set: Average loss: 0.3037\n",
            "Train Epoch: 20 Average Loss: 0.000901, elapsed time:0.04s\n",
            "Test set: Average loss: 0.3042\n",
            "Train Epoch: 21 Average Loss: 0.000907, elapsed time:0.03s\n",
            "Test set: Average loss: 0.3037\n",
            "Train Epoch: 22 Average Loss: 0.000884, elapsed time:0.03s\n",
            "Test set: Average loss: 0.3059\n",
            "Train Epoch: 23 Average Loss: 0.000892, elapsed time:0.03s\n",
            "Test set: Average loss: 0.3129\n",
            "Train Epoch: 24 Average Loss: 0.000889, elapsed time:0.03s\n",
            "Test set: Average loss: 0.3040\n",
            "\n",
            "Early stopping\n",
            "\n"
          ]
        }
      ]
    },
    {
      "cell_type": "code",
      "source": [
        "thousand_neuron_model = ANN_model(layers_and_neurons=[2048, 5000, 1024]).to(device)\n",
        "thousand_neuron_loss, thousand_neuron_mse = check_model(thousand_neuron_model, device, test_dataloader, train_dataloader)"
      ],
      "metadata": {
        "colab": {
          "base_uri": "https://localhost:8080/"
        },
        "id": "Qf0uL7xSqaxP",
        "outputId": "d0446de2-e726-4494-bc7b-2c50e279ef87"
      },
      "execution_count": null,
      "outputs": [
        {
          "output_type": "stream",
          "name": "stdout",
          "text": [
            "Train Epoch: 1 Average Loss: 0.003235, elapsed time:1.29s\n",
            "Test set: Average loss: 1.1461\n",
            "Train Epoch: 2 Average Loss: 0.002215, elapsed time:1.29s\n",
            "Test set: Average loss: 0.8089\n",
            "Train Epoch: 3 Average Loss: 0.001618, elapsed time:1.28s\n",
            "Test set: Average loss: 0.4994\n",
            "Train Epoch: 4 Average Loss: 0.001324, elapsed time:1.28s\n",
            "Test set: Average loss: 0.3497\n",
            "Train Epoch: 5 Average Loss: 0.001114, elapsed time:1.27s\n",
            "Test set: Average loss: 0.3777\n",
            "Train Epoch: 6 Average Loss: 0.000986, elapsed time:1.27s\n",
            "Test set: Average loss: 0.3309\n",
            "Train Epoch: 7 Average Loss: 0.000956, elapsed time:1.29s\n",
            "Test set: Average loss: 0.3110\n",
            "Train Epoch: 8 Average Loss: 0.000952, elapsed time:1.28s\n",
            "Test set: Average loss: 0.3181\n",
            "Train Epoch: 9 Average Loss: 0.000941, elapsed time:1.28s\n",
            "Test set: Average loss: 0.3083\n",
            "Train Epoch: 10 Average Loss: 0.000916, elapsed time:1.54s\n",
            "Test set: Average loss: 0.3113\n",
            "Train Epoch: 11 Average Loss: 0.000934, elapsed time:1.28s\n",
            "Test set: Average loss: 0.3005\n",
            "Train Epoch: 12 Average Loss: 0.000897, elapsed time:1.28s\n",
            "Test set: Average loss: 0.3363\n",
            "Train Epoch: 13 Average Loss: 0.000966, elapsed time:1.28s\n",
            "Test set: Average loss: 0.3039\n",
            "Train Epoch: 14 Average Loss: 0.000890, elapsed time:1.28s\n",
            "Test set: Average loss: 0.3067\n",
            "Train Epoch: 15 Average Loss: 0.000916, elapsed time:1.28s\n",
            "Test set: Average loss: 0.3188\n",
            "Train Epoch: 16 Average Loss: 0.000884, elapsed time:1.27s\n",
            "Test set: Average loss: 0.3094\n",
            "Train Epoch: 17 Average Loss: 0.000879, elapsed time:1.27s\n",
            "Test set: Average loss: 0.3153\n",
            "Train Epoch: 18 Average Loss: 0.000918, elapsed time:1.28s\n",
            "Test set: Average loss: 0.3064\n",
            "\n",
            "Early stopping\n",
            "\n"
          ]
        }
      ]
    },
    {
      "cell_type": "code",
      "source": [
        "print(f'\\rTen neuron model L1 loss: {ten_neuron_loss}, mse: {ten_neuron_mse}',\n",
        "          f'\\n Hundred neuron model L1 loss: {hundred_neuron_loss}, mse: {hundred_neuron_mse}', \n",
        "          f'\\n Thousamd neuron model L1 loss: {thousand_neuron_loss}, mse: {thousand_neuron_mse}')"
      ],
      "metadata": {
        "colab": {
          "base_uri": "https://localhost:8080/"
        },
        "id": "gIwWY5nSqqag",
        "outputId": "051d29aa-2a3c-4f8f-8671-60def109e522"
      },
      "execution_count": null,
      "outputs": [
        {
          "output_type": "stream",
          "name": "stdout",
          "text": [
            "\rTen neuron model L1 loss: 68.4075927734375, mse: 11.78477168083191 \n",
            " Hundred neuron model L1 loss: 60.65543556213379, mse: 9.514414310455322 \n",
            " Thousamd neuron model L1 loss: 60.099090576171875, mse: 9.323148965835571\n"
          ]
        }
      ]
    },
    {
      "cell_type": "code",
      "source": [
        "relu_model = ANN_model(layers_and_neurons=[2048, 5000, 1024], activation_function = F.relu).to(device)\n",
        "relu_loss, relu_mse  = check_model(relu_model, device, test_dataloader, train_dataloader)"
      ],
      "metadata": {
        "colab": {
          "base_uri": "https://localhost:8080/"
        },
        "id": "kQKbjxyU86SD",
        "outputId": "f31e3a32-7970-41c1-8e34-d7e996ae4e32"
      },
      "execution_count": null,
      "outputs": [
        {
          "output_type": "stream",
          "name": "stdout",
          "text": [
            "Train Epoch: 1 Average Loss: 0.003435, elapsed time:1.28s\n",
            "Test set: Average loss: 1.2160\n",
            "Train Epoch: 2 Average Loss: 0.002222, elapsed time:1.31s\n",
            "Test set: Average loss: 0.7475\n",
            "Train Epoch: 3 Average Loss: 0.001665, elapsed time:1.30s\n",
            "Test set: Average loss: 0.3753\n",
            "Train Epoch: 4 Average Loss: 0.001244, elapsed time:1.67s\n",
            "Test set: Average loss: 0.3787\n",
            "Train Epoch: 5 Average Loss: 0.001089, elapsed time:1.28s\n",
            "Test set: Average loss: 0.3738\n",
            "Train Epoch: 6 Average Loss: 0.000945, elapsed time:1.80s\n",
            "Test set: Average loss: 0.3126\n",
            "Train Epoch: 7 Average Loss: 0.000943, elapsed time:1.28s\n",
            "Test set: Average loss: 0.3081\n",
            "Train Epoch: 8 Average Loss: 0.000932, elapsed time:1.28s\n",
            "Test set: Average loss: 0.3060\n",
            "Train Epoch: 9 Average Loss: 0.000884, elapsed time:1.27s\n",
            "Test set: Average loss: 0.3165\n",
            "Train Epoch: 10 Average Loss: 0.000906, elapsed time:1.63s\n",
            "Test set: Average loss: 0.3013\n",
            "Train Epoch: 11 Average Loss: 0.000904, elapsed time:1.61s\n",
            "Test set: Average loss: 0.3010\n",
            "Train Epoch: 12 Average Loss: 0.000907, elapsed time:1.27s\n",
            "Test set: Average loss: 0.3017\n",
            "Train Epoch: 13 Average Loss: 0.000896, elapsed time:1.28s\n",
            "Epoch 00013: reducing learning rate of group 0 to 3.0000e-02.\n",
            "Test set: Average loss: 0.3044\n",
            "Train Epoch: 14 Average Loss: 0.000881, elapsed time:1.61s\n",
            "Test set: Average loss: 0.3027\n",
            "Train Epoch: 15 Average Loss: 0.000909, elapsed time:3.78s\n",
            "Test set: Average loss: 0.3056\n",
            "Train Epoch: 16 Average Loss: 0.000894, elapsed time:2.08s\n",
            "Test set: Average loss: 0.3026\n",
            "Train Epoch: 17 Average Loss: 0.000887, elapsed time:1.90s\n",
            "Test set: Average loss: 0.3030\n",
            "Train Epoch: 18 Average Loss: 0.000879, elapsed time:1.29s\n",
            "Test set: Average loss: 0.3029\n",
            "\n",
            "Early stopping\n",
            "\n"
          ]
        }
      ]
    },
    {
      "cell_type": "code",
      "source": [
        "leaky_relu_model = ANN_model(layers_and_neurons=[2048, 5000, 1024], activation_function = F.leaky_relu).to(device)\n",
        "leaky_relu_loss, leaky_relu_mse = check_model(leaky_relu_model, device, test_dataloader, train_dataloader)"
      ],
      "metadata": {
        "colab": {
          "base_uri": "https://localhost:8080/"
        },
        "id": "oROUziBsAdJY",
        "outputId": "6b8561ac-1b62-47c7-af61-3bb915c941f4"
      },
      "execution_count": null,
      "outputs": [
        {
          "output_type": "stream",
          "name": "stdout",
          "text": [
            "Train Epoch: 1 Average Loss: 0.003306, elapsed time:1.27s\n",
            "Test set: Average loss: 1.2253\n",
            "Train Epoch: 2 Average Loss: 0.002320, elapsed time:1.28s\n",
            "Test set: Average loss: 0.7982\n",
            "Train Epoch: 3 Average Loss: 0.001608, elapsed time:1.29s\n",
            "Test set: Average loss: 0.3791\n",
            "Train Epoch: 4 Average Loss: 0.001219, elapsed time:1.27s\n",
            "Test set: Average loss: 0.3824\n",
            "Train Epoch: 5 Average Loss: 0.001106, elapsed time:1.26s\n",
            "Test set: Average loss: 0.3848\n",
            "Train Epoch: 6 Average Loss: 0.001035, elapsed time:1.28s\n",
            "Test set: Average loss: 0.3309\n",
            "Train Epoch: 7 Average Loss: 0.001003, elapsed time:1.26s\n",
            "Test set: Average loss: 0.3186\n",
            "Train Epoch: 8 Average Loss: 0.000971, elapsed time:1.25s\n",
            "Test set: Average loss: 0.3017\n",
            "Train Epoch: 9 Average Loss: 0.000937, elapsed time:1.27s\n",
            "Test set: Average loss: 0.3061\n",
            "Train Epoch: 10 Average Loss: 0.000900, elapsed time:1.27s\n",
            "Test set: Average loss: 0.3581\n",
            "Train Epoch: 11 Average Loss: 0.000974, elapsed time:1.29s\n",
            "Test set: Average loss: 0.3010\n",
            "Train Epoch: 12 Average Loss: 0.000924, elapsed time:1.70s\n",
            "Test set: Average loss: 0.2965\n",
            "Train Epoch: 13 Average Loss: 0.000889, elapsed time:1.27s\n",
            "Test set: Average loss: 0.2956\n",
            "Train Epoch: 14 Average Loss: 0.000885, elapsed time:1.26s\n",
            "Test set: Average loss: 0.2976\n",
            "Train Epoch: 15 Average Loss: 0.000900, elapsed time:1.26s\n",
            "Test set: Average loss: 0.3309\n",
            "Train Epoch: 16 Average Loss: 0.000926, elapsed time:1.28s\n",
            "Test set: Average loss: 0.3003\n",
            "Train Epoch: 17 Average Loss: 0.000877, elapsed time:1.27s\n",
            "Test set: Average loss: 0.3076\n",
            "Train Epoch: 18 Average Loss: 0.000897, elapsed time:1.28s\n",
            "Test set: Average loss: 0.3020\n",
            "Train Epoch: 19 Average Loss: 0.000867, elapsed time:1.27s\n",
            "Test set: Average loss: 0.3031\n",
            "Train Epoch: 20 Average Loss: 0.000904, elapsed time:1.27s\n",
            "Test set: Average loss: 0.2979\n",
            "\n",
            "Early stopping\n",
            "\n"
          ]
        }
      ]
    },
    {
      "cell_type": "code",
      "source": [
        "print(f'\\nAverage relu L1 loss: {relu_loss}, mse: {relu_mse}',\n",
        "          f'\\nAverage leaky relu L1 loss: {leaky_relu_loss}, mse: {leaky_relu_mse}')"
      ],
      "metadata": {
        "colab": {
          "base_uri": "https://localhost:8080/"
        },
        "id": "B34lshETBEIM",
        "outputId": "184492ff-3255-4fa7-b294-199653b54ebe"
      },
      "execution_count": null,
      "outputs": [
        {
          "output_type": "stream",
          "name": "stdout",
          "text": [
            "\\Average relu L1 loss: 60.19511604309082, mse: 9.347373485565186 Average leaky relu L1 loss: 59.110633850097656, mse: 9.132680416107178\n"
          ]
        }
      ]
    },
    {
      "cell_type": "code",
      "source": [
        "class Best_ANN_model(nn.Module):\n",
        "    def __init__(self):\n",
        "        super(Best_ANN_model, self).__init__()\n",
        "        self.input_layer = nn.Linear(14, 2048)\n",
        "        self.hidden1 = nn.Linear(2048, 5000)\n",
        "        self.hidden2 = nn.Linear(5000, 1024)\n",
        "        self.output_layer = nn.Linear(1024, 3)\n",
        "    \n",
        "    def forward(self, x):\n",
        "        x = F.leaky_relu(self.input_layer(x))\n",
        "        x = F.leaky_relu(self.hidden1(x))\n",
        "        x = F.leaky_relu(self.hidden2(x))\n",
        "        x = self.output_layer(x)\n",
        "        return x\n",
        "\n",
        "final_model = Best_ANN_model().to(device)\n",
        "final_loss, final_mse = check_model(final_model, device, test_dataloader, train_dataloader)"
      ],
      "metadata": {
        "colab": {
          "base_uri": "https://localhost:8080/"
        },
        "id": "JcxfD94cT-fC",
        "outputId": "b8b246b5-c00c-4c52-f19f-f44e591786af"
      },
      "execution_count": null,
      "outputs": [
        {
          "output_type": "stream",
          "name": "stdout",
          "text": [
            "Train Epoch: 1 Average Loss: 0.002808, elapsed time:1.59s\n",
            "Test set: Average loss: 0.5445\n",
            "Train Epoch: 2 Average Loss: 0.001343, elapsed time:1.56s\n",
            "Test set: Average loss: 0.3706\n",
            "Train Epoch: 3 Average Loss: 0.001092, elapsed time:1.56s\n",
            "Test set: Average loss: 0.3651\n",
            "Train Epoch: 4 Average Loss: 0.001106, elapsed time:1.54s\n",
            "Test set: Average loss: 0.3741\n",
            "Train Epoch: 5 Average Loss: 0.001045, elapsed time:1.54s\n",
            "Test set: Average loss: 0.3334\n",
            "Train Epoch: 6 Average Loss: 0.000939, elapsed time:1.52s\n",
            "Test set: Average loss: 0.3261\n",
            "Train Epoch: 7 Average Loss: 0.000968, elapsed time:1.56s\n",
            "Test set: Average loss: 0.3490\n",
            "Train Epoch: 8 Average Loss: 0.000916, elapsed time:1.55s\n",
            "Test set: Average loss: 0.3088\n",
            "Train Epoch: 9 Average Loss: 0.000882, elapsed time:1.52s\n",
            "Test set: Average loss: 0.3083\n",
            "Train Epoch: 10 Average Loss: 0.000869, elapsed time:1.55s\n",
            "Test set: Average loss: 0.3048\n",
            "Train Epoch: 11 Average Loss: 0.000858, elapsed time:1.53s\n",
            "Test set: Average loss: 0.3097\n",
            "Train Epoch: 12 Average Loss: 0.000844, elapsed time:1.54s\n",
            "Test set: Average loss: 0.3119\n",
            "Train Epoch: 13 Average Loss: 0.000851, elapsed time:1.53s\n",
            "Test set: Average loss: 0.3180\n",
            "Train Epoch: 14 Average Loss: 0.000828, elapsed time:1.52s\n",
            "Test set: Average loss: 0.3058\n",
            "Train Epoch: 15 Average Loss: 0.000839, elapsed time:2.24s\n",
            "Test set: Average loss: 0.3096\n",
            "Train Epoch: 16 Average Loss: 0.000845, elapsed time:1.55s\n",
            "Test set: Average loss: 0.3288\n",
            "Train Epoch: 17 Average Loss: 0.000831, elapsed time:1.54s\n",
            "Test set: Average loss: 0.3103\n",
            "\n",
            "Early stopping\n",
            "\n"
          ]
        }
      ]
    },
    {
      "cell_type": "code",
      "source": [
        "print(f'\\Final L1 loss: {relu_loss}, mse: {relu_mse}')"
      ],
      "metadata": {
        "colab": {
          "base_uri": "https://localhost:8080/"
        },
        "id": "SD6skG8QWQUf",
        "outputId": "df9b5c1d-4698-4b1d-cc5e-09ae3fbffb66"
      },
      "execution_count": null,
      "outputs": [
        {
          "output_type": "stream",
          "name": "stdout",
          "text": [
            "\\Final L1 loss: 60.19511604309082, mse: 9.347373485565186\n"
          ]
        }
      ]
    },
    {
      "cell_type": "markdown",
      "source": [
        "### Questions\n",
        "1. What preprocessing techniques did you use? Why?\n",
        "    - *Answer*\n",
        "2. Describe the fine-tuning process and how you reached your model architecture.\n",
        "    - *Answer*"
      ],
      "metadata": {
        "collapsed": false,
        "id": "_BAQrxT2TRXW"
      }
    },
    {
      "cell_type": "markdown",
      "source": [
        "# Task 2: CNN (40%)\n",
        "For this task, you will be doing image classification:\n",
        "- First, adapt your best model from Task 1 to work on this task, and\n",
        "fit it on the new data. Then, evaluate its performance.\n",
        "- After that, build a CNN model for image classification.\n",
        "- Compare both models in terms of accuracy, number of parameters and speed of\n",
        "inference (the time the model takes to predict 50 samples).\n",
        "\n",
        "For the given data, you need to do proper data preprocessing and augmentation,\n",
        "data loaders.\n",
        "Then fine-tune your model architecture (number of layers, number of filters,\n",
        "activation function, learning rate, momentum, regularization).\n",
        "\n",
        "### Data\n",
        "You will be working with the data in `triple_mnist.zip` for predicting 3-digit\n",
        "numbers writen in the image. Each image contains 3 digits similar to the\n",
        "following example (whose label is `039`):\n",
        "\n",
        "![example](https://github.com/shaohua0116/MultiDigitMNIST/blob/master/asset/examples/039/0_039.png?raw=true)"
      ],
      "metadata": {
        "collapsed": false,
        "id": "ckj2crXtTRXW"
      }
    },
    {
      "cell_type": "code",
      "source": [
        "\n",
        "!unzip triple_mnist.zip"
      ],
      "metadata": {
        "colab": {
          "base_uri": "https://localhost:8080/"
        },
        "id": "kCoANmRKrT0J",
        "outputId": "123736cd-f0df-403c-d3cc-1e6e470a16f5"
      },
      "execution_count": 7,
      "outputs": [
        {
          "output_type": "stream",
          "name": "stdout",
          "text": [
            "Archive:  triple_mnist.zip\n",
            "replace triple_mnist/test/002/0_002.png? [y]es, [n]o, [A]ll, [N]one, [r]ename: "
          ]
        }
      ]
    },
    {
      "cell_type": "code",
      "execution_count": 8,
      "outputs": [],
      "source": [
        "import os\n",
        "from torchvision.datasets  import ImageFolder\n",
        "from torch.utils import data\n",
        "from torchvision import transforms as T\n",
        "from torchvision.datasets import ImageFolder\n",
        "from PIL import Image\n",
        "import matplotlib.pyplot as plt\n",
        "import torch\n",
        "import os\n",
        "import random\n",
        "\n",
        "class MyImageDataSet(ImageFolder):\n",
        "  def __init__(self, root, transform=None):\n",
        "      super().__init__(root, transform)\n",
        "  \n",
        "  def find_classes(self, directory: str):\n",
        "    classes = sorted(entry.name for entry in os.scandir(directory) if entry.is_dir())\n",
        "    if not classes:\n",
        "        raise FileNotFoundError(f\"Couldn't find any class folder in {directory}.\")\n",
        "\n",
        "    class_to_idx = {cls_name: int(cls_name) for i, cls_name in enumerate(classes)}\n",
        "    return classes, class_to_idx \n",
        "\n",
        "train_dataset = MyImageDataSet(root='triple_mnist/train', \n",
        "                             transform=T.Compose([T.ToTensor(), T.Grayscale(), T.RandomRotation(degrees=(-3, 3))]))\n",
        "train_dataloader = data.DataLoader(dataset=train_dataset,\n",
        "                                  batch_size=32,\n",
        "                                  shuffle=True,\n",
        "                                  num_workers=1)\n",
        "\n",
        "\n",
        "val_dataset = MyImageDataSet(root='triple_mnist/val', \n",
        "                             transform=T.Compose([T.ToTensor(), T.Grayscale()]))\n",
        "val_dataloader = data.DataLoader(dataset=val_dataset,\n",
        "                                  batch_size=32,\n",
        "                                  shuffle=False,\n",
        "                                  num_workers=1)\n",
        "\n",
        "\n",
        "test_dataset = MyImageDataSet(root='triple_mnist/test', \n",
        "                             transform=T.Compose([T.ToTensor(), T.Grayscale()]))\n",
        "test_dataloader = data.DataLoader(dataset=test_dataset,\n",
        "                                  batch_size=32,\n",
        "                                  shuffle=False,\n",
        "                                  num_workers=1)\n",
        "\n"
      ],
      "metadata": {
        "pycharm": {
          "name": "#%%\n"
        },
        "id": "L8BqNpYITRXY"
      }
    },
    {
      "cell_type": "code",
      "source": [
        "train_features, train_labels = next(iter(train_dataloader))\n",
        "\n",
        "print(f\"Feature batch shape: {train_features.size()}\")\n",
        "print(f\"Labels batch shape: {train_labels.size()}\")\n",
        "img = train_features[0].squeeze()\n",
        "label = train_labels[0]\n",
        "plt.imshow(img)\n",
        "plt.show()\n",
        "print(f\"Label: {label}\")\n"
      ],
      "metadata": {
        "colab": {
          "base_uri": "https://localhost:8080/",
          "height": 325
        },
        "id": "d8fEq3aJA69R",
        "outputId": "4032f40d-3508-4871-e5fb-4df728c09ffd"
      },
      "execution_count": 3,
      "outputs": [
        {
          "output_type": "stream",
          "name": "stdout",
          "text": [
            "Feature batch shape: torch.Size([32, 1, 84, 84])\n",
            "Labels batch shape: torch.Size([32])\n"
          ]
        },
        {
          "output_type": "display_data",
          "data": {
            "text/plain": [
              "<Figure size 432x288 with 1 Axes>"
            ],
            "image/png": "[encoded data removed]"
          },
          "metadata": {
            "needs_background": "light"
          }
        },
        {
          "output_type": "stream",
          "name": "stdout",
          "text": [
            "Label: 567\n"
          ]
        }
      ]
    },
    {
      "cell_type": "code",
      "source": [
        "import torch.nn as nn\n",
        "import torch.nn.functional as F\n",
        "from time import time \n",
        "from torch import optim\n",
        "from torch.utils.tensorboard import SummaryWriter\n",
        "import copy\n",
        "\n",
        "class ANN_img_model(nn.Module):\n",
        "    def __init__(self):\n",
        "        super(ANN_img_model, self).__init__()\n",
        "        self.flatten = nn.Flatten()\n",
        "        self.adapter = nn.Linear(84*84, 14)\n",
        "        self.input_layer = nn.Linear(14, 2048)\n",
        "        self.hidden1 = nn.Linear(2048, 5000)\n",
        "        self.hidden2 = nn.Linear(5000, 1024)\n",
        "        self.output_1 = nn.Linear(1024, 10)\n",
        "        self.output_2 = nn.Linear(1024, 10)\n",
        "        self.output_3 = nn.Linear(1024, 10)\n",
        "    \n",
        "    def forward(self, x):\n",
        "        x = self.flatten(x)\n",
        "        x = self.adapter(x)\n",
        "        x = F.leaky_relu(self.input_layer(x))\n",
        "        x = F.leaky_relu(self.hidden1(x))\n",
        "        x = F.leaky_relu(self.hidden2(x))\n",
        "        return [self.output_1(x), self.output_2(x), self.output_3(x)]\n",
        "\n",
        "use_cuda = torch.cuda.is_available()\n",
        "device = torch.device(\"cuda:0\" if use_cuda else \"cpu\")\n",
        "\n",
        "\n",
        "import operator\n",
        "import numpy as np\n",
        "import tensorflow as tf\n",
        "class EarlyStopping():\n",
        "    def __init__(self, tolerance=5, min_delta=0, mode='min'):\n",
        "        self.tolerance = tolerance\n",
        "        self.min_delta = min_delta\n",
        "        self.mode = mode\n",
        "        self.counter = 0\n",
        "        self.early_stop = False\n",
        "        self.prev_metric = np.inf if mode == 'min' else -np.inf\n",
        "\n",
        "        self.operation = operator.gt if mode == 'min' else operator.lt\n",
        "\n",
        "    def __call__(self, metric):\n",
        "        delta = (metric - self.prev_metric)\n",
        "\n",
        "        if self.operation(delta, self.min_delta):\n",
        "            self.counter +=1\n",
        "        else:\n",
        "            self.counter = 0\n",
        "            self.prev_metric = metric\n",
        "\n",
        "        if self.counter >= self.tolerance:\n",
        "            self.early_stop = True\n",
        "        return self.early_stop\n",
        "\n",
        "def customLoss(pred, target):\n",
        "    fir = F.cross_entropy(pred[0], target[0])\n",
        "    sec = F.cross_entropy(pred[1], target[1])\n",
        "    thr = F.cross_entropy(pred[2], target[2])\n",
        "    loss = fir + sec + thr\n",
        "    return loss\n",
        "\n",
        "def img_train(model, device, train_loader, criterion, optimizer, epoch):\n",
        "    model.train()\n",
        "    epoch_loss = 0\n",
        "    start_time = time()\n",
        "    correct = 0\n",
        "    log_interval = 10\n",
        "\n",
        "    for batch_idx, (data, target) in enumerate(train_loader):\n",
        "        data = data.to(device)\n",
        "\n",
        "        target1 = (target // 100).to(device)\n",
        "        target2 = ((target // 10) % 10).to(device) \n",
        "        target3 = (target % 10).to(device)\n",
        "        #print(f'base: {target}')\n",
        "        #print(f'first: {target1}, \\n second: {target2}, \\n third: {target3}')\n",
        "\n",
        "        optimizer.zero_grad()\n",
        "        output = model(data)\n",
        "\n",
        "        loss = customLoss(output, [target1, target2, target3])\n",
        "        loss.backward()\n",
        "        optimizer.step()\n",
        "        epoch_loss += loss.item()\n",
        "\n",
        "        if batch_idx % log_interval == 0:\n",
        "            print(f'\\rTrain Epoch {epoch}:',\n",
        "                  f'[{batch_idx * len(data)}/{len(train_loader.dataset)}',\n",
        "                  f'({100. * batch_idx / len(train_loader):.0f}%)]',\n",
        "                  f'\\tLoss: {loss.item()}',\n",
        "                  end='')\n",
        "              \n",
        "    print(f'\\rTrain Epoch: {epoch} Average Loss: {epoch_loss/len(train_loader.dataset):.6f}, elapsed time:{time()-start_time:.2f}s')\n",
        "    return epoch_loss\n",
        "\n",
        "def img_test(model, device, test_loader, criterion):\n",
        "    model.eval()\n",
        "    test_loss = 0\n",
        "    correct = 0\n",
        "    total = 0\n",
        "\n",
        "    with torch.no_grad():\n",
        "        for data, target in test_loader:\n",
        "            data = data.to(device)\n",
        "            target1 = (target // 100).to(device)\n",
        "            target2 = ((target // 10) % 10).to(device) \n",
        "            target3 = (target % 10).to(device)\n",
        "\n",
        "            output = model(data)\n",
        "\n",
        "            fir = torch.max(output[0], 1)[1].data.squeeze()\n",
        "            sec = torch.max(output[1], 1)[1].data.squeeze()\n",
        "            thr = torch.max(output[2], 1)[1].data.squeeze()\n",
        "            temp = torch.mul((fir == target1), (sec == target2))\n",
        "            temp = torch.mul(temp, (thr == target3))\n",
        "            correct += temp.sum().item()\n",
        "            total += target1.size(0)\n",
        "\n",
        "            test_loss += customLoss(output, [target1, target2, target3]).item()  # sum up batch loss\n",
        "    \n",
        "    acc = 100. * correct / total\n",
        "    print(f'\\rTest set: Average loss: {test_loss/len(test_loader.dataset):.4f},',\n",
        "          f'Accuracy: {correct}/{len(test_loader.dataset)}', \n",
        "          f'({acc:.0f}%)\\n')\n",
        "    \n",
        "    return test_loss, acc\n",
        "\n",
        "\n",
        "\n",
        "def img_check_model(model, device, test_dataloader, train_dataloader):\n",
        "  writer = SummaryWriter(log_dir='runs/model')\n",
        "  epochs = 15\n",
        "  lr = 5e-2  \n",
        "  momentum = 0.5\n",
        "  log_interval = 10\n",
        "\n",
        "  criterion = nn.CrossEntropyLoss()\n",
        "  optimizer = optim.SGD(model.parameters(), lr=lr, momentum=0.9)\n",
        "  scheduler = optim.lr_scheduler.ReduceLROnPlateau(optimizer, 'min', factor=0.3, patience=3, verbose=True)\n",
        "  early_stopping = EarlyStopping(tolerance=7, min_delta=5)\n",
        "\n",
        "  best_model_wts = copy.deepcopy(model.state_dict())\n",
        "  best_acc = 0.0\n",
        "\n",
        "  for epoch in range(1, epochs + 1):\n",
        "      train_loss = img_train(model, device, train_dataloader, criterion, optimizer, epoch)\n",
        "      scheduler.step(train_loss)\n",
        "\n",
        "      test_loss, test_acc = img_test(model, device, test_dataloader, criterion)\n",
        "      if early_stopping(test_loss):\n",
        "          print('\\nEarly stopping\\n')\n",
        "          break\n",
        "\n",
        "      writer.add_scalars('Loss',\n",
        "                          {\n",
        "                              'train': train_loss,\n",
        "                              'test': test_loss\n",
        "                          },\n",
        "                          epoch)\n",
        "      \n",
        "      writer.add_scalars('Accuracy',\n",
        "                          {\n",
        "                              'test': test_acc\n",
        "                          },\n",
        "                          epoch)\n",
        "    \n",
        "      # deep copy the model\n",
        "      if test_acc > best_acc:\n",
        "          best_acc = test_acc\n",
        "          best_model_wts = copy.deepcopy(model.state_dict())\n",
        "\n",
        "  writer.close()\n",
        "  torch.save(model.state_dict(), \"model.pt\")\n",
        "\n",
        "  model.load_state_dict(best_model_wts)\n",
        "  torch.save(model.state_dict(), \"best_model.pt\")\n",
        "  return best_acc\n",
        "\n",
        "use_cuda = torch.cuda.is_available()\n",
        "device = torch.device(\"cuda:0\" if use_cuda else \"cpu\")\n"
      ],
      "metadata": {
        "colab": {
          "base_uri": "https://localhost:8080/"
        },
        "id": "bDgtFHb9LmeQ",
        "outputId": "acdaab11-8542-456e-b647-374542fb66e0"
      },
      "execution_count": 9,
      "outputs": [
        {
          "output_type": "stream",
          "name": "stderr",
          "text": [
            "/usr/local/lib/python3.7/dist-packages/ipykernel_launcher.py:76: UserWarning: __floordiv__ is deprecated, and its behavior will change in a future version of pytorch. It currently rounds toward 0 (like the 'trunc' function NOT 'floor'). This results in incorrect rounding for negative values. To keep the current behavior, use torch.div(a, b, rounding_mode='trunc'), or for actual floor division, use torch.div(a, b, rounding_mode='floor').\n",
            "/usr/local/lib/python3.7/dist-packages/ipykernel_launcher.py:77: UserWarning: __floordiv__ is deprecated, and its behavior will change in a future version of pytorch. It currently rounds toward 0 (like the 'trunc' function NOT 'floor'). This results in incorrect rounding for negative values. To keep the current behavior, use torch.div(a, b, rounding_mode='trunc'), or for actual floor division, use torch.div(a, b, rounding_mode='floor').\n"
          ]
        },
        {
          "output_type": "stream",
          "name": "stdout",
          "text": [
            "Train Epoch: 1 Average Loss: 0.194099, elapsed time:68.35s\n"
          ]
        },
        {
          "output_type": "stream",
          "name": "stderr",
          "text": [
            "/usr/local/lib/python3.7/dist-packages/ipykernel_launcher.py:109: UserWarning: __floordiv__ is deprecated, and its behavior will change in a future version of pytorch. It currently rounds toward 0 (like the 'trunc' function NOT 'floor'). This results in incorrect rounding for negative values. To keep the current behavior, use torch.div(a, b, rounding_mode='trunc'), or for actual floor division, use torch.div(a, b, rounding_mode='floor').\n",
            "/usr/local/lib/python3.7/dist-packages/ipykernel_launcher.py:110: UserWarning: __floordiv__ is deprecated, and its behavior will change in a future version of pytorch. It currently rounds toward 0 (like the 'trunc' function NOT 'floor'). This results in incorrect rounding for negative values. To keep the current behavior, use torch.div(a, b, rounding_mode='trunc'), or for actual floor division, use torch.div(a, b, rounding_mode='floor').\n"
          ]
        },
        {
          "output_type": "stream",
          "name": "stdout",
          "text": [
            "\rTest set: Average loss: 0.1909, Accuracy: 172/16000 (1%)\n",
            "\n",
            "Train Epoch: 2 Average Loss: 0.184043, elapsed time:67.74s\n",
            "Test set: Average loss: 0.1775, Accuracy: 291/16000 (2%)\n",
            "\n",
            "Train Epoch: 3 Average Loss: 0.162469, elapsed time:67.64s\n",
            "Test set: Average loss: 0.1603, Accuracy: 711/16000 (4%)\n",
            "\n",
            "Train Epoch: 4 Average Loss: 0.154270, elapsed time:67.82s\n",
            "Test set: Average loss: 0.1610, Accuracy: 726/16000 (5%)\n",
            "\n",
            "Train Epoch: 5 Average Loss: 0.152337, elapsed time:67.78s\n",
            "Test set: Average loss: 0.1527, Accuracy: 777/16000 (5%)\n",
            "\n",
            "Train Epoch: 6 Average Loss: 0.151853, elapsed time:68.47s\n",
            "Test set: Average loss: 0.1550, Accuracy: 820/16000 (5%)\n",
            "\n",
            "Train Epoch: 7 Average Loss: 0.151479, elapsed time:67.97s\n",
            "Test set: Average loss: 0.1568, Accuracy: 657/16000 (4%)\n",
            "\n",
            "Train Epoch: 8 Average Loss: 0.152269, elapsed time:74.87s\n",
            "Test set: Average loss: 0.1582, Accuracy: 759/16000 (5%)\n",
            "\n",
            "Train Epoch: 9 Average Loss: 0.152344, elapsed time:69.60s\n",
            "Test set: Average loss: 0.1582, Accuracy: 786/16000 (5%)\n",
            "\n",
            "Train Epoch: 10 Average Loss: 0.152806, elapsed time:67.03s\n",
            "Test set: Average loss: 0.1585, Accuracy: 717/16000 (4%)\n",
            "\n",
            "Train Epoch: 11 Average Loss: 0.153840, elapsed time:73.99s\n",
            "Epoch 00011: reducing learning rate of group 0 to 1.5000e-02.\n",
            "Test set: Average loss: 0.1602, Accuracy: 700/16000 (4%)\n",
            "\n",
            "Train Epoch: 12 Average Loss: 0.131172, elapsed time:76.55s\n",
            "Test set: Average loss: 0.1363, Accuracy: 1338/16000 (8%)\n",
            "\n",
            "Train Epoch: 13 Average Loss: 0.124889, elapsed time:69.61s\n",
            "Test set: Average loss: 0.1385, Accuracy: 1216/16000 (8%)\n",
            "\n",
            "Train Epoch: 14 Average Loss: 0.122086, elapsed time:71.62s\n",
            "Test set: Average loss: 0.1374, Accuracy: 1267/16000 (8%)\n",
            "\n",
            "Train Epoch: 15 Average Loss: 0.119972, elapsed time:73.22s\n",
            "Test set: Average loss: 0.1373, Accuracy: 1304/16000 (8%)\n",
            "\n",
            "Train Epoch: 16 Average Loss: 0.118452, elapsed time:67.21s\n",
            "Test set: Average loss: 0.1394, Accuracy: 1226/16000 (8%)\n",
            "\n",
            "Train Epoch: 17 Average Loss: 0.116879, elapsed time:66.03s\n",
            "Test set: Average loss: 0.1371, Accuracy: 1285/16000 (8%)\n",
            "\n",
            "Train Epoch: 18 Average Loss: 0.115636, elapsed time:70.50s\n",
            "Test set: Average loss: 0.1404, Accuracy: 1173/16000 (7%)\n",
            "\n",
            "Train Epoch: 19 Average Loss: 0.114688, elapsed time:76.79s\n",
            "Test set: Average loss: 0.1422, Accuracy: 1205/16000 (8%)\n",
            "\n",
            "\n",
            "Early stopping\n",
            "\n"
          ]
        },
        {
          "output_type": "execute_result",
          "data": {
            "text/plain": [
              "8.3625"
            ]
          },
          "metadata": {},
          "execution_count": 9
        }
      ]
    },
    {
      "cell_type": "code",
      "source": [
        "ANN_model = ANN_img_model().to(device)\n",
        "img_check_model(ANN_model, device, val_dataloader, train_dataloader)"
      ],
      "metadata": {
        "id": "Y706yJ1Qe8iE"
      },
      "execution_count": null,
      "outputs": []
    },
    {
      "cell_type": "code",
      "source": [
        "class CNN(nn.Module):\n",
        "    def __init__(self):\n",
        "        super(CNN, self).__init__()\n",
        "        self.conv1 = nn.Sequential(\n",
        "            nn.Conv2d(\n",
        "                in_channels=1,\n",
        "                out_channels=16,\n",
        "                kernel_size=5,\n",
        "                stride=1,\n",
        "                padding=2,\n",
        "            ),\n",
        "            nn.ReLU(),\n",
        "            nn.MaxPool2d(kernel_size=2),\n",
        "            nn.Conv2d(16, 32, 5, 1, 2),\n",
        "            nn.ReLU(),\n",
        "            nn.MaxPool2d(2)\n",
        "        )\n",
        "        # fully connected layer, output 10 classes\n",
        "        self.out1 = nn.Linear(14112, 10)\n",
        "        self.out2 = nn.Linear(14112, 10)\n",
        "        self.out3 = nn.Linear(14112, 10)\n",
        "\n",
        "    def forward(self, x):\n",
        "        x = self.conv1(x)\n",
        "        x = x.view(x.size(0), -1)\n",
        "        return [\n",
        "            self.out1(x),\n",
        "            self.out2(x),\n",
        "            self.out3(x)\n",
        "        ]\n",
        "\n",
        "model = CNN().to(device)\n",
        "img_check_model(model, device, val_dataloader, train_dataloader)"
      ],
      "metadata": {
        "colab": {
          "base_uri": "https://localhost:8080/"
        },
        "id": "2YuGM3RO_hVA",
        "outputId": "0e9b319b-87fe-4d16-ddad-5df113a3b468"
      },
      "execution_count": null,
      "outputs": [
        {
          "output_type": "stream",
          "name": "stderr",
          "text": [
            "/usr/local/lib/python3.7/dist-packages/ipykernel_launcher.py:76: UserWarning: __floordiv__ is deprecated, and its behavior will change in a future version of pytorch. It currently rounds toward 0 (like the 'trunc' function NOT 'floor'). This results in incorrect rounding for negative values. To keep the current behavior, use torch.div(a, b, rounding_mode='trunc'), or for actual floor division, use torch.div(a, b, rounding_mode='floor').\n",
            "/usr/local/lib/python3.7/dist-packages/ipykernel_launcher.py:77: UserWarning: __floordiv__ is deprecated, and its behavior will change in a future version of pytorch. It currently rounds toward 0 (like the 'trunc' function NOT 'floor'). This results in incorrect rounding for negative values. To keep the current behavior, use torch.div(a, b, rounding_mode='trunc'), or for actual floor division, use torch.div(a, b, rounding_mode='floor').\n"
          ]
        },
        {
          "output_type": "stream",
          "name": "stdout",
          "text": [
            "Train Epoch: 1 Average Loss: 0.055517, elapsed time:64.10s\n"
          ]
        },
        {
          "output_type": "stream",
          "name": "stderr",
          "text": [
            "/usr/local/lib/python3.7/dist-packages/ipykernel_launcher.py:109: UserWarning: __floordiv__ is deprecated, and its behavior will change in a future version of pytorch. It currently rounds toward 0 (like the 'trunc' function NOT 'floor'). This results in incorrect rounding for negative values. To keep the current behavior, use torch.div(a, b, rounding_mode='trunc'), or for actual floor division, use torch.div(a, b, rounding_mode='floor').\n",
            "/usr/local/lib/python3.7/dist-packages/ipykernel_launcher.py:110: UserWarning: __floordiv__ is deprecated, and its behavior will change in a future version of pytorch. It currently rounds toward 0 (like the 'trunc' function NOT 'floor'). This results in incorrect rounding for negative values. To keep the current behavior, use torch.div(a, b, rounding_mode='trunc'), or for actual floor division, use torch.div(a, b, rounding_mode='floor').\n"
          ]
        },
        {
          "output_type": "stream",
          "name": "stdout",
          "text": [
            "\rTest set: Average loss: 0.0328, Accuracy: 11647/16000 (73%)\n",
            "\n",
            "Train Epoch: 2 Average Loss: 0.023351, elapsed time:63.73s\n",
            "Test set: Average loss: 0.0236, Accuracy: 12533/16000 (78%)\n",
            "\n",
            "Train Epoch: 3 Average Loss: 0.018618, elapsed time:63.84s\n",
            "Test set: Average loss: 0.0280, Accuracy: 12767/16000 (80%)\n",
            "\n",
            "Train Epoch: 4 Average Loss: 0.019231, elapsed time:63.97s\n",
            "Test set: Average loss: 0.0363, Accuracy: 12720/16000 (80%)\n",
            "\n",
            "Train Epoch: 5 Average Loss: 0.022872, elapsed time:64.13s\n",
            "Test set: Average loss: 0.0329, Accuracy: 12938/16000 (81%)\n",
            "\n",
            "Train Epoch: 6 Average Loss: 0.024377, elapsed time:63.62s\n",
            "Test set: Average loss: 0.0448, Accuracy: 12067/16000 (75%)\n",
            "\n",
            "Train Epoch: 7 Average Loss: 0.030824, elapsed time:63.48s\n",
            "Epoch 00007: reducing learning rate of group 0 to 1.5000e-02.\n",
            "Test set: Average loss: 0.0571, Accuracy: 11947/16000 (75%)\n",
            "\n",
            "Train Epoch: 8 Average Loss: 0.010195, elapsed time:63.96s\n",
            "Test set: Average loss: 0.0245, Accuracy: 14077/16000 (88%)\n",
            "\n",
            "Train Epoch: 9 Average Loss: 0.005453, elapsed time:64.17s\n",
            "Test set: Average loss: 0.0216, Accuracy: 14288/16000 (89%)\n",
            "\n",
            "Train Epoch: 10 Average Loss: 0.003778, elapsed time:63.86s\n",
            "Test set: Average loss: 0.0206, Accuracy: 14385/16000 (90%)\n",
            "\n",
            "Train Epoch: 11 Average Loss: 0.003212, elapsed time:63.77s\n",
            "Test set: Average loss: 0.0203, Accuracy: 14446/16000 (90%)\n",
            "\n",
            "Train Epoch: 12 Average Loss: 0.002813, elapsed time:63.70s\n",
            "Test set: Average loss: 0.0204, Accuracy: 14496/16000 (91%)\n",
            "\n",
            "Train Epoch: 13 Average Loss: 0.002223, elapsed time:64.05s\n",
            "Test set: Average loss: 0.0207, Accuracy: 14515/16000 (91%)\n",
            "\n",
            "Train Epoch 14: [14720/64000 (23%)] \tLoss: 0.055229343473911285"
          ]
        }
      ]
    },
    {
      "cell_type": "code",
      "source": [
        "test_loss, test_acc = img_test(model, device, test_dataloader, None)\n",
        "print(f'Test dataset loss: {test_loss}, test dataset accuracy: {test_acc}')"
      ],
      "metadata": {
        "colab": {
          "base_uri": "https://localhost:8080/"
        },
        "id": "9J_P8U1DOerh",
        "outputId": "2b3ef90a-ae5f-46ab-b9e2-fe1b5a7c247c"
      },
      "execution_count": 13,
      "outputs": [
        {
          "output_type": "stream",
          "name": "stderr",
          "text": [
            "/usr/local/lib/python3.7/dist-packages/ipykernel_launcher.py:109: UserWarning: __floordiv__ is deprecated, and its behavior will change in a future version of pytorch. It currently rounds toward 0 (like the 'trunc' function NOT 'floor'). This results in incorrect rounding for negative values. To keep the current behavior, use torch.div(a, b, rounding_mode='trunc'), or for actual floor division, use torch.div(a, b, rounding_mode='floor').\n",
            "/usr/local/lib/python3.7/dist-packages/ipykernel_launcher.py:110: UserWarning: __floordiv__ is deprecated, and its behavior will change in a future version of pytorch. It currently rounds toward 0 (like the 'trunc' function NOT 'floor'). This results in incorrect rounding for negative values. To keep the current behavior, use torch.div(a, b, rounding_mode='trunc'), or for actual floor division, use torch.div(a, b, rounding_mode='floor').\n"
          ]
        },
        {
          "output_type": "stream",
          "name": "stdout",
          "text": [
            "\rTest set: Average loss: 0.0142, Accuracy: 18631/20000 (93%)\n",
            "\n",
            "Test dataset loss: 283.32806559665823, test dataset accuracy: 93.155\n"
          ]
        }
      ]
    },
    {
      "cell_type": "markdown",
      "source": [
        "### Questions\n",
        "1. What preprocessing techniques did you use? Why?\n",
        "    - *Answer*\n",
        "2. What data augmentation techniques did you use?\n",
        "    - *Answer*\n",
        "3. Describe the fine-tuning process and how you reached your final CNN model.\n",
        "    - *Answer*"
      ],
      "metadata": {
        "collapsed": false,
        "pycharm": {
          "name": "#%% md\n"
        },
        "id": "TIrSMaNCTRXY"
      }
    },
    {
      "cell_type": "markdown",
      "source": [
        "# Task 3: Decision Trees and Ensemble Learning (15%)\n",
        "\n",
        "For the `loan_data.csv` data, predict if the bank should give a loan or not.\n",
        "You need to do the following:\n",
        "- Fine-tune a decision tree on the data\n",
        "- Fine-tune a random forest on the data\n",
        "- Compare their performance\n",
        "- Visualize your DT and one of the trees from the RF\n",
        "\n",
        "For evaluating your models, do $80/20$ train test split.\n",
        "\n",
        "### Data\n",
        "- `credit.policy`: Whether the customer meets the credit underwriting criteria.\n",
        "- `purpose`: The purpose of the loan.\n",
        "- `int.rate`: The interest rate of the loan.\n",
        "- `installment`: The monthly installments owed by the borrower if the loan is funded.\n",
        "- `log.annual.inc`: The natural logarithm of the self-reported annual income of the borrower.\n",
        "- `dti`: The debt-to-income ratio of the borrower.\n",
        "- `fico`: The FICO credit score of the borrower.\n",
        "- `days.with.cr.line`: The number of days the borrower has had a credit line.\n",
        "- `revol.bal`: The borrower's revolving balance.\n",
        "- `revol.util`: The borrower's revolving line utilization rate."
      ],
      "metadata": {
        "collapsed": false,
        "pycharm": {
          "name": "#%% md\n"
        },
        "id": "LKuHDACrTRXZ"
      }
    },
    {
      "cell_type": "markdown",
      "source": [
        "Preprocessing:"
      ],
      "metadata": {
        "id": "cYdMM7jhIlYm"
      }
    },
    {
      "cell_type": "code",
      "execution_count": null,
      "outputs": [],
      "source": [
        "df = pd.read_csv('loan_data.csv')\n",
        "\n",
        "df.head()"
      ],
      "metadata": {
        "pycharm": {
          "name": "#%%\n"
        },
        "id": "-GZeZNl9TRXa"
      }
    },
    {
      "cell_type": "code",
      "source": [
        "df = encode_ordinal_features(df, ['purpose'])\n",
        "y = df['credit.policy']\n",
        "x = df.drop(columns=['credit.policy'])"
      ],
      "metadata": {
        "id": "FGvdGsMNHqEm"
      },
      "execution_count": null,
      "outputs": []
    },
    {
      "cell_type": "markdown",
      "source": [
        "Decision tree:"
      ],
      "metadata": {
        "id": "Ju1tIndSImqr"
      }
    },
    {
      "cell_type": "code",
      "source": [
        "from sklearn.tree import DecisionTreeRegressor\n",
        "from sklearn.model_selection import train_test_split\n",
        "import graphviz\n",
        "from sklearn import tree\n",
        "\n",
        "x_train, x_test, y_train, y_test = train_test_split(x, y, test_size = 0.2)\n",
        "\n",
        "dt = DecisionTreeRegressor()\n",
        "dt = dt.fit(x_train, y_train)\n",
        "\n",
        "score = dt.score(x_test, y_test)\n",
        "print(\"Score: \", score)"
      ],
      "metadata": {
        "id": "LBqVVjLVIkdz"
      },
      "execution_count": null,
      "outputs": []
    },
    {
      "cell_type": "code",
      "source": [
        "import graphviz\n",
        "def plot_tree(clf):\n",
        "    dot_data = tree.export_graphviz(clf, out_file=None,\n",
        "                       feature_names=x.columns.values,\n",
        "                       class_names=y.columns.values,\n",
        "                       filled=True, rounded=True,\n",
        "                       special_characters=True)\n",
        "    graph = graphviz.Source(dot_data)\n",
        "    return graph\n",
        "graph = plot_tree(dt)\n",
        "graph"
      ],
      "metadata": {
        "id": "FOJjhP23Jry6"
      },
      "execution_count": null,
      "outputs": []
    },
    {
      "cell_type": "markdown",
      "source": [
        "Tuning"
      ],
      "metadata": {
        "id": "emPsBVvOMpeD"
      }
    },
    {
      "cell_type": "code",
      "source": [
        "criterions = ['friedman_mse', 'squared_error', 'absolute_error', 'poisson']\n",
        "\n",
        "\n",
        "best_score = 0\n",
        "best_criterion = ''\n",
        "\n",
        "for criterion in criterions:\n",
        "  dt = DecisionTreeRegressor(criterion=criterion)\n",
        "  dt = dt.fit(x_train, y_train)\n",
        "  score = dt.score(x_test, y_test)\n",
        "        \n",
        "  print(f'Criterion: {criterion} \\n Score: {score}')\n",
        "\n",
        "  if score > best_score:\n",
        "      best_score = score\n",
        "      best_criterion = criterion\n",
        "print(f'Best criterion: {criterion} \\n Best score: {score}')"
      ],
      "metadata": {
        "id": "fYqsYlKwNPnB"
      },
      "execution_count": null,
      "outputs": []
    },
    {
      "cell_type": "markdown",
      "source": [
        "### Questions\n",
        "1. How did the DT compare to the RF in performance? Why?\n",
        "    - *Answer*\n",
        "2. After fine-tuning, how does the max depth in DT compare to RF? Why?\n",
        "    - *Answer*\n",
        "3. What is ensemble learning? What are its pros and cons?\n",
        "    - *Answer*\n",
        "4. Briefly explain 2 types of boosting methods and 2 types of bagging methods.\n",
        "Which of these categories does RF fall under?\n",
        "    - *Answer*"
      ],
      "metadata": {
        "collapsed": false,
        "id": "D4IWOgD8TRXb"
      }
    },
    {
      "cell_type": "markdown",
      "source": [
        "# Task 4: Domain Gap (15%)\n",
        "\n",
        "Evaluate your CNN model from task 2 on SVHN data without retraining your model."
      ],
      "metadata": {
        "collapsed": false,
        "pycharm": {
          "name": "#%% md\n"
        },
        "id": "o4N28Or8TRXb"
      }
    },
    {
      "cell_type": "code",
      "execution_count": null,
      "outputs": [],
      "source": [
        "# TODO: Implement task 4"
      ],
      "metadata": {
        "pycharm": {
          "name": "#%%\n"
        },
        "id": "bJGewsfSTRXb"
      }
    },
    {
      "cell_type": "markdown",
      "source": [
        "### Questions\n",
        "1. How did your model perform? Why is it better/worse?\n",
        "    - *Answer*\n",
        "2. What is domain gap in the context of ML?\n",
        "    - *Answer*\n",
        "3. Suggest two ways through which the problem of domain gap can be tackled.\n",
        "    - *Answer*"
      ],
      "metadata": {
        "collapsed": false,
        "pycharm": {
          "name": "#%% md\n"
        },
        "id": "LZnYe2HaTRXc"
      }
    }
  ],
  "metadata": {
    "kernelspec": {
      "display_name": "Python 3",
      "language": "python",
      "name": "python3"
    },
    "language_info": {
      "codemirror_mode": {
        "name": "ipython",
        "version": 2
      },
      "file_extension": ".py",
      "mimetype": "text/x-python",
      "name": "python",
      "nbconvert_exporter": "python",
      "pygments_lexer": "ipython2",
      "version": "2.7.6"
    },
    "colab": {
      "provenance": []
    },
    "gpuClass": "standard",
    "accelerator": "GPU"
  },
  "nbformat": 4,
  "nbformat_minor": 0
}